{
 "cells": [
  {
   "cell_type": "markdown",
   "metadata": {},
   "source": [
    "# met_site_data_creation_impact_scaled.py\n",
    "\n",
    "This script will create cBioPortal timeline files for the `Diagnosis` tracks (Primary, Lymph Node, and Metastasis)\n",
    "\n",
    "The class `cBioPortalDiagnosisTimeline` will leverage the organ site mapping that is used in the MSK-MET paper (20 sites of disease)\n",
    "\n",
    "\n"
   ]
  },
  {
   "cell_type": "markdown",
   "metadata": {},
   "source": [
    "## Load Libraries"
   ]
  },
  {
   "cell_type": "code",
   "execution_count": 1,
   "metadata": {},
   "outputs": [],
   "source": [
    "import sys  \n",
    "sys.path.insert(0, '../mappings')\n",
    "sys.path.insert(0, '../analysis')\n",
    "sys.path.insert(0, '../')\n",
    "sys.path.insert(0, '/mind_data/fongc2/cdm-utilities/minio_api/')\n",
    "sys.path.insert(0, '/mind_data/fongc2/cdm-utilities/')\n",
    "sys.path.insert(0, '/mind_data/fongc2/diagnosis_event_abstraction_icd/cbioportal/')\n",
    "\n",
    "\n",
    "import os\n",
    "import pandas as pd\n",
    "from minio_api import MinioAPI\n",
    "import constants_o_sites as const\n",
    "from organ_mapping_analysis import OrganMappingAnalysisRND\n",
    "from organ_mapping_rdn_processing import MetastaticSpreadMappingRND\n",
    "from dx_cbioportal_timeline import cBioPortalDiagnosisTimeline\n",
    "\n",
    "\n",
    "from dotenv import load_dotenv, find_dotenv, dotenv_values\n",
    "from utils import set_debug_console, print_df_without_index, drop_cols, mrn_zero_pad, convert_to_int, read_minio_api_config\n"
   ]
  },
  {
   "cell_type": "code",
   "execution_count": 2,
   "metadata": {},
   "outputs": [],
   "source": [
    "set_debug_console()"
   ]
  },
  {
   "cell_type": "markdown",
   "metadata": {},
   "source": [
    "## Test object\n",
    "This section tests the class that performs all of the tasks at `Minio Setup` and below"
   ]
  },
  {
   "cell_type": "code",
   "execution_count": 11,
   "metadata": {},
   "outputs": [],
   "source": [
    "# Filenames (Minio objects) required to create \"Diagnosis\" timeline files for cBioPortal\n",
    "fname_minio_env = '/mind_data/fongc2/cdm-utilities/minio_env.txt'\n",
    "fname_cbio = 'cbioportal/mskimpact_ids.tsv'\n",
    "fname_dx = 'diagnosis/table_diagnosis_clean.csv'\n",
    "fname_demo = 'demographics/ddp_demographics.tsv'\n",
    "fname_impact_map = 'summary/IMPACT_Darwin_Sample_Summary.tsv'\n",
    "fname_rad_pred = 'radiology/aacr_predictions.csv'\n",
    "config_cols = None"
   ]
  },
  {
   "cell_type": "markdown",
   "metadata": {},
   "source": [
    "TBD on config_cols... There are way too many hardcoded column names and values in this class that maybe should be in some global file."
   ]
  },
  {
   "cell_type": "code",
   "execution_count": 4,
   "metadata": {},
   "outputs": [
    {
     "name": "stdout",
     "output_type": "stream",
     "text": [
      "Loading mapping tables\n"
     ]
    }
   ],
   "source": [
    "obj_dx_timeline = cBioPortalDiagnosisTimeline(fname_minio_config=fname_minio_env, \n",
    "                                              config_cols=config_cols, \n",
    "                                              const_organ_map=const, \n",
    "                                              fname_impact_map=fname_impact_map, \n",
    "                                              fname_demo=fname_demo, \n",
    "                                              fname_dx=fname_dx, \n",
    "                                              fname_cbio=fname_cbio, \n",
    "                                              fname_rad_pred=fname_rad_pred)"
   ]
  },
  {
   "cell_type": "code",
   "execution_count": 5,
   "metadata": {},
   "outputs": [],
   "source": [
    "df_prim = obj_dx_timeline.primary_dx_clean_and_merge(fname_save='/mind_data/msk-mind-datahub/msk-mind/datahub/mskimpact_test_june/data_timeline_diagnosis1.txt')"
   ]
  },
  {
   "cell_type": "code",
   "execution_count": 23,
   "metadata": {},
   "outputs": [],
   "source": [
    "df_prim.head(50);"
   ]
  },
  {
   "cell_type": "code",
   "execution_count": 7,
   "metadata": {},
   "outputs": [],
   "source": [
    "df_mets = obj_dx_timeline.metastatic_clean_and_merge(fname_save='/mind_data/msk-mind-datahub/msk-mind/datahub/mskimpact_test_june/data_timeline_indication_of_mets1.txt')"
   ]
  },
  {
   "cell_type": "code",
   "execution_count": 24,
   "metadata": {},
   "outputs": [],
   "source": [
    "df_mets.head(10);"
   ]
  },
  {
   "cell_type": "code",
   "execution_count": 8,
   "metadata": {},
   "outputs": [],
   "source": [
    "df_ln = obj_dx_timeline.lymph_node_clean_and_merge(fname_save='/mind_data/msk-mind-datahub/msk-mind/datahub/mskimpact_test_june/data_timeline_ln1.txt')"
   ]
  },
  {
   "cell_type": "code",
   "execution_count": 25,
   "metadata": {},
   "outputs": [],
   "source": [
    "df_ln.head(10);"
   ]
  },
  {
   "cell_type": "markdown",
   "metadata": {},
   "source": [
    "## Minio Setup"
   ]
  },
  {
   "cell_type": "code",
   "execution_count": 3,
   "metadata": {},
   "outputs": [],
   "source": [
    "# env = load_dotenv('/mind_data/fongc2/cdm-utilities/minio_env.txt')\n",
    "config = read_minio_api_config('/mind_data/fongc2/cdm-utilities/minio_env.txt')\n",
    "dict_config = dict(config)"
   ]
  },
  {
   "cell_type": "code",
   "execution_count": 4,
   "metadata": {},
   "outputs": [
    {
     "data": {
      "text/plain": [
       "'/mind_data/fongc2/.env'"
      ]
     },
     "execution_count": 4,
     "metadata": {},
     "output_type": "execute_result"
    }
   ],
   "source": [
    "dict_config['MINIO_ENV']"
   ]
  },
  {
   "cell_type": "code",
   "execution_count": 5,
   "metadata": {},
   "outputs": [],
   "source": [
    "load_dotenv(find_dotenv())\n",
    " \n",
    "ACCESS_KEY = os.getenv(\"ACCESS_KEY\")\n",
    "SECRET_KEY = os.getenv('SECRET_KEY')\n",
    "BUCKET = 'cdm-data'\n",
    "\n",
    "ca_certs = '/mind_data/fongc2/certificate.crt'\n",
    "url_port = \"tllihpcmind6:9000\""
   ]
  },
  {
   "cell_type": "code",
   "execution_count": 6,
   "metadata": {},
   "outputs": [],
   "source": [
    "obj_minio = MinioAPI(ACCESS_KEY=ACCESS_KEY, SECRET_KEY=SECRET_KEY, ca_certs=ca_certs, url_port=url_port)"
   ]
  },
  {
   "cell_type": "code",
   "execution_count": 7,
   "metadata": {},
   "outputs": [
    {
     "name": "stdout",
     "output_type": "stream",
     "text": [
      "radiology/.ipynb_checkpoints/rad_emb_feat_imp-checkpoint.csv\n",
      "radiology/.ipynb_checkpoints/radiology_features_embedding_avg_findings_all-checkpoint.csv\n",
      "radiology/.ipynb_checkpoints/radiology_features_embedding_avg_findings_parsed-checkpoint.csv\n",
      "radiology/.ipynb_checkpoints/radiology_features_embedding_avg_impressions-checkpoint.csv\n",
      "radiology/aacr_predictions.csv\n",
      "radiology/ddp_radiology_reports.tsv\n",
      "radiology/ddp_radiology_reports.tsv.bkup\n",
      "radiology/ddp_radiology_reports_char_limit.tsv\n",
      "radiology/ddp_radiology_reports_full_parsed.tsv\n",
      "radiology/feature_matrices/.ipynb_checkpoints/\n",
      "radiology/feature_matrices/genie_lung_crc_train/.ipynb_checkpoints/genie_crc_lung_training_0604-checkpoint.csv\n",
      "radiology/feature_matrices/genie_lung_crc_train/genie_crc_lung_train_adrenal_feature_matrix_0614.csv\n",
      "radiology/feature_matrices/genie_lung_crc_train/genie_crc_lung_train_bone_feature_matrix_0614.csv\n",
      "radiology/feature_matrices/genie_lung_crc_train/genie_crc_lung_train_cnsbrain_feature_matrix_0614.csv\n",
      "radiology/feature_matrices/genie_lung_crc_train/genie_crc_lung_train_liver_feature_matrix_0614.csv\n",
      "radiology/feature_matrices/genie_lung_crc_train/genie_crc_lung_train_lung_feature_matrix_0614.csv\n",
      "radiology/feature_matrices/genie_lung_crc_train/genie_crc_lung_train_lymphoid_feature_matrix_0614.csv\n",
      "radiology/feature_matrices/genie_lung_crc_train/genie_crc_lung_train_mediastinum_feature_matrix_0614.csv\n",
      "radiology/feature_matrices/genie_lung_crc_train/genie_crc_lung_train_peritoneum_feature_matrix_0614.csv\n",
      "radiology/feature_matrices/genie_lung_crc_train/genie_crc_lung_train_reproductive_feature_matrix_0614.csv\n",
      "radiology/feature_matrices/genie_lung_crc_train/genie_crc_lung_train_softtissue_feature_matrix_0614.csv\n",
      "radiology/feature_matrices/genie_lung_crc_train/genie_crc_lung_training_0604.csv\n",
      "radiology/final_datasets/.ipynb_checkpoints/genie_crc_lung_train_sites_0609-checkpoint.csv\n",
      "radiology/final_datasets/genie_crc_lung_train_sites_0609.csv\n",
      "radiology/met_event_data_freeze_20220209/.ipynb_checkpoints/\n",
      "radiology/models/.ipynb_checkpoints/\n",
      "radiology/models/lr_model_genie_crc_lung_training_0604.pth\n",
      "radiology/per_site_met_scores.csv\n",
      "radiology/prediction_labels/.ipynb_checkpoints/README_predictions-checkpoint.txt\n",
      "radiology/prediction_labels/.ipynb_checkpoints/genie_cohort_0927-checkpoint.csv\n",
      "radiology/prediction_labels/README_predictions.txt\n",
      "radiology/prediction_labels/genie_cohort_0927.csv\n",
      "radiology/prediction_labels/genie_crc_lung_0426.csv\n",
      "radiology/prediction_labels/genie_crc_lung_test_sites_0609.csv\n",
      "radiology/prediction_labels/genie_crc_lung_train_sites_0609.csv\n",
      "radiology/rad_emb_feat_imp.csv\n",
      "radiology/radiology_clean_annotations.tsv\n",
      "radiology/radiology_features_embedding_avg_findings_all.csv\n",
      "radiology/radiology_features_embedding_avg_findings_parsed.csv\n",
      "radiology/radiology_features_embedding_avg_impressions.csv\n",
      "radiology/radiology_findings_columns.csv\n",
      "radiology/radiology_findings_long.tsv\n",
      "radiology/radiology_parse_findings.tsv\n",
      "radiology/radiology_parse_findings_long.tsv\n",
      "radiology/radiology_parse_headers.tsv\n",
      "radiology/radiology_parse_impression.tsv\n"
     ]
    }
   ],
   "source": [
    "obj_minio.print_list_objects(bucket_name=BUCKET, recursive=True, prefix=\"radio\")"
   ]
  },
  {
   "cell_type": "code",
   "execution_count": null,
   "metadata": {},
   "outputs": [],
   "source": [
    "df_test = obj_minio.load_obj(bucket_name=BUCKET, \n",
    "                               path_object='sandbox/fongc2/dx_met_timeline.txt', \n",
    "                               sep='\\t')\n",
    "df_test.head()"
   ]
  },
  {
   "cell_type": "markdown",
   "metadata": {},
   "source": [
    "## Outputs"
   ]
  },
  {
   "cell_type": "markdown",
   "metadata": {},
   "source": [
    "This script will create a cBioPortal formatted timeline file for metastatic site events\n",
    "Events will be derived from four sources:\n",
    "- Billing codes\n",
    "- IMPACT sample info\n",
    "- ICD-O registry\n",
    "- Radiology reports (NLP predictions)\n",
    "\n",
    "cBioPortal timeline file columns required:\n",
    "- PATIENT_ID\n",
    "- START_DATE\n",
    "- STOP_DATE (For this file, can be left blank)\n",
    "- EVENT_TYPE (Always \"Diagnosis\")\n",
    "- SUBTYPE (For metastatic events, always \"Metastasis\")\n",
    "- SOURCE (ICD Billing, MSK-IMPACT, Radiology Report)\n",
    "- SOURCE_SPECIFIC (Imaging modality: CT, PET, MRI for radiology reports. Pathology for MSK-IMPACT. ICD Billing for billing codes.)\n",
    "- DX_DESCRIPTION (ICD billing description, \"Radiology Report\", Pathology report specimen description (?))\n",
    "- ANATOMIC_LOCATION (MSK-MET derived info)\n"
   ]
  },
  {
   "cell_type": "code",
   "execution_count": 75,
   "metadata": {},
   "outputs": [],
   "source": [
    "col_order = ['PATIENT_ID', \n",
    "              'START_DATE', \n",
    "              'STOP_DATE',\n",
    "              'EVENT_TYPE',\n",
    "              'SUBTYPE',\n",
    "              'SOURCE',\n",
    "              'SOURCE_SPECIFIC',\n",
    "              'DX_DESCRIPTION',\n",
    "              'ANATOMIC_LOCATION']\n",
    "\n",
    "col_order_prim = ['PATIENT_ID', \n",
    "                  'START_DATE', \n",
    "                  'STOP_DATE',\n",
    "                  'EVENT_TYPE',\n",
    "                  'SUBTYPE',\n",
    "                  'SOURCE',\n",
    "                  'DX_DESCRIPTION',\n",
    "                  'AJCC',\n",
    "                  'CLINICAL_GROUP', \n",
    "                  'PATH_GROUP']\n",
    "\n",
    "\n"
   ]
  },
  {
   "cell_type": "markdown",
   "metadata": {},
   "source": [
    "### Filename for output"
   ]
  },
  {
   "cell_type": "code",
   "execution_count": 20,
   "metadata": {},
   "outputs": [],
   "source": [
    "path = '../demo_data'\n",
    "fname_save_anno = 'impact2017_met_site_annotations_impact_scaled.csv'\n",
    "pathfilename_out = os.path.join(path, fname_save_anno)"
   ]
  },
  {
   "cell_type": "markdown",
   "metadata": {},
   "source": [
    "## Load Data\n",
    "- Demographics (for gender)\n",
    "- ID mapping between dmp-id and mrn\n",
    "- IMPACT sample data\n",
    "- IMPACT sample summary (for DOP)\n",
    "- Dx Timeline from Darwin\n",
    "- Radiology report predictions"
   ]
  },
  {
   "cell_type": "markdown",
   "metadata": {},
   "source": [
    "### Load cbioportal clinical data file"
   ]
  },
  {
   "cell_type": "code",
   "execution_count": 8,
   "metadata": {},
   "outputs": [],
   "source": [
    "df_samples1 = obj_minio.load_obj(bucket_name=BUCKET, \n",
    "                               path_object='cbioportal/mskimpact_ids.tsv', \n",
    "                               sep='\\t')\n",
    "\n",
    "# For genie, fix ids\n",
    "col_id = 'SAMPLE_ID'\n",
    "col_id2 = 'DMP_ID'\n",
    "col_sex = 'GENDER'\n",
    "col_sample_type = 'SAMPLE_TYPE'\n",
    "col_prim_site = 'PRIMARY_SITE'\n",
    "col_met_site = 'METASTATIC_SITE'\n",
    "col_icd_billing = 'ICD-9/10 Dx Code'\n",
    "\n",
    "\n",
    "col_rep = {'patientId': col_id2,\n",
    "           'sampleId': col_id}\n",
    "\n",
    "cols_keep = ['SAMPLE_ID',\n",
    "             'DMP_ID',\n",
    "             'CANCER_TYPE',\n",
    "             'SAMPLE_TYPE',\n",
    "             'PRIMARY_SITE',\n",
    "             'METASTATIC_SITE'\n",
    "            ]\n",
    "\n",
    "df_samples = df_samples1.rename(columns=col_rep)\n",
    "# df_samples = df_samples1[list(col_rep.values())]\n",
    "logic1 = df_samples[col_sample_type] == 'Metastasis'\n",
    "df_samples = df_samples.loc[logic1, cols_keep]\n"
   ]
  },
  {
   "cell_type": "code",
   "execution_count": 12,
   "metadata": {},
   "outputs": [
    {
     "ename": "NameError",
     "evalue": "name 'df_samples1' is not defined",
     "output_type": "error",
     "traceback": [
      "\u001b[0;31m---------------------------------------------------------------------------\u001b[0m",
      "\u001b[0;31mNameError\u001b[0m                                 Traceback (most recent call last)",
      "\u001b[0;32m/tmp/ipykernel_1741189/1348768720.py\u001b[0m in \u001b[0;36m<module>\u001b[0;34m\u001b[0m\n\u001b[0;32m----> 1\u001b[0;31m \u001b[0mdf_samples1\u001b[0m\u001b[0;34m.\u001b[0m\u001b[0mhead\u001b[0m\u001b[0;34m(\u001b[0m\u001b[0;36m1\u001b[0m\u001b[0;34m)\u001b[0m\u001b[0;34m;\u001b[0m\u001b[0;34m\u001b[0m\u001b[0;34m\u001b[0m\u001b[0m\n\u001b[0m",
      "\u001b[0;31mNameError\u001b[0m: name 'df_samples1' is not defined"
     ]
    }
   ],
   "source": [
    "df_samples1.head(1);\n"
   ]
  },
  {
   "cell_type": "markdown",
   "metadata": {},
   "source": [
    "### Load demographics"
   ]
  },
  {
   "cell_type": "code",
   "execution_count": 10,
   "metadata": {},
   "outputs": [],
   "source": [
    "df_demo = obj_minio.load_obj(bucket_name=BUCKET, \n",
    "                               path_object='demographics/ddp_demographics.tsv', \n",
    "                               sep='\\t')\n",
    "\n",
    "df_demo = mrn_zero_pad(df=df_demo, col_mrn='MRN')\n",
    "df_demo = df_demo[['MRN', 'PT_BIRTH_DTE', 'GENDER']]\n",
    "\n",
    "df_demo['PT_BIRTH_DTE'] = pd.to_datetime(df_demo['PT_BIRTH_DTE'])\n",
    "\n"
   ]
  },
  {
   "cell_type": "code",
   "execution_count": 11,
   "metadata": {},
   "outputs": [],
   "source": [
    "df_demo.head(1);\n"
   ]
  },
  {
   "cell_type": "markdown",
   "metadata": {},
   "source": [
    "### Load sample summary data"
   ]
  },
  {
   "cell_type": "code",
   "execution_count": 12,
   "metadata": {},
   "outputs": [],
   "source": [
    "df_sample_summary = obj_minio.load_obj(bucket_name=BUCKET, \n",
    "                               path_object='summary/IMPACT_Darwin_Sample_Summary.tsv', \n",
    "                               sep='\\t')\n",
    "\n",
    "df_sample_summary = convert_to_int(df=df_sample_summary, list_cols=['MRN'])\n",
    "df_sample_summary = mrn_zero_pad(df=df_sample_summary, col_mrn='MRN')\n",
    "\n",
    "cols_keep = ['MRN', 'SAMPLE_ID', 'DMP_ID', 'DATE_OF_PROCEDURE_SURGICAL_EST']\n",
    "df_sample_summary = df_sample_summary[cols_keep]\n",
    "\n",
    "df_sample_summary['DATE_OF_PROCEDURE_SURGICAL_EST'] = pd.to_datetime(df_sample_summary['DATE_OF_PROCEDURE_SURGICAL_EST'])"
   ]
  },
  {
   "cell_type": "code",
   "execution_count": 13,
   "metadata": {},
   "outputs": [],
   "source": [
    "df_sample_summary;"
   ]
  },
  {
   "cell_type": "markdown",
   "metadata": {},
   "source": [
    "### Load ID mapping"
   ]
  },
  {
   "cell_type": "code",
   "execution_count": 14,
   "metadata": {},
   "outputs": [],
   "source": [
    "df_id_map = obj_minio.load_obj(bucket_name=BUCKET, \n",
    "                               path_object='id_mapping/ddp_id_mapping_pathology.tsv', \n",
    "                               sep='\\t')\n",
    "\n",
    "df_id_map = mrn_zero_pad(df=df_id_map, col_mrn='MRN')\n",
    "df_id_map = df_id_map[['MRN', 'DMP_ID']].drop_duplicates()\n",
    "df_id_map = df_id_map[df_id_map['DMP_ID'].notnull()]\n",
    "\n"
   ]
  },
  {
   "cell_type": "code",
   "execution_count": 15,
   "metadata": {},
   "outputs": [],
   "source": [
    "df_id_map.head(1);\n"
   ]
  },
  {
   "cell_type": "markdown",
   "metadata": {},
   "source": [
    "### Load Dx timeline data"
   ]
  },
  {
   "cell_type": "code",
   "execution_count": 112,
   "metadata": {},
   "outputs": [],
   "source": [
    "df_dx_timeline = obj_minio.load_obj(bucket_name=BUCKET, \n",
    "                               path_object='diagnosis/table_diagnosis_clean.csv', \n",
    "                               sep=',')\n",
    "\n",
    "df_dx_timeline = mrn_zero_pad(df=df_dx_timeline, col_mrn='MRN')\n",
    "\n",
    "df_dx_timeline['Diagnosis Date'] = pd.to_datetime(df_dx_timeline['Diagnosis Date'])\n",
    "df_dx_timeline = df_dx_timeline[df_dx_timeline['IS_NON_CANCER'] == False]\n"
   ]
  },
  {
   "cell_type": "code",
   "execution_count": 13,
   "metadata": {},
   "outputs": [
    {
     "ename": "NameError",
     "evalue": "name 'df_dx_timeline' is not defined",
     "output_type": "error",
     "traceback": [
      "\u001b[0;31m---------------------------------------------------------------------------\u001b[0m",
      "\u001b[0;31mNameError\u001b[0m                                 Traceback (most recent call last)",
      "\u001b[0;32m/tmp/ipykernel_1741189/181812489.py\u001b[0m in \u001b[0;36m<module>\u001b[0;34m\u001b[0m\n\u001b[0;32m----> 1\u001b[0;31m \u001b[0mdf_dx_timeline\u001b[0m\u001b[0;34m.\u001b[0m\u001b[0mhead\u001b[0m\u001b[0;34m(\u001b[0m\u001b[0;36m1\u001b[0m\u001b[0;34m)\u001b[0m\u001b[0;34m;\u001b[0m\u001b[0;34m\u001b[0m\u001b[0;34m\u001b[0m\u001b[0m\n\u001b[0m",
      "\u001b[0;31mNameError\u001b[0m: name 'df_dx_timeline' is not defined"
     ]
    }
   ],
   "source": [
    "df_dx_timeline.head(1);"
   ]
  },
  {
   "cell_type": "markdown",
   "metadata": {},
   "source": [
    "#### Tumor Registry (Add this to Primary Dx timeline)"
   ]
  },
  {
   "cell_type": "code",
   "execution_count": 114,
   "metadata": {},
   "outputs": [],
   "source": [
    "cols_dx_treg = ['MRN', 'Diagnosis Date', \n",
    "           'IS_STAGE_IV_ICDO_SOLID', 'ICDO_IS_DISTANT_SOLID']\n",
    "df_dx_treg = df_dx_timeline.loc[df_dx_timeline['Source'] == 'Tumor Registry']\n",
    "\n",
    "dx_desc = df_dx_treg['ICD-O Histology Desc'] + ' | ' + df_dx_treg['ICD-O Site Desc']\n",
    "source = df_dx_treg['ICD-O Histology Code'] + ' | ' + df_dx_treg['ICD-O Site Code']\n",
    "df_dx_treg = df_dx_treg.assign(DX_DESCRIPTION=dx_desc)\n",
    "df_dx_treg = df_dx_treg.assign(SOURCE=source)\n",
    "\n",
    "cols_dict = {'Clinical Group': 'CLINICAL_GROUP',\n",
    "             'Path Group': 'PATH_GROUP'}\n",
    "\n",
    "cols_keep = ['MRN', 'Diagnosis Date', 'DX_DESCRIPTION', 'SOURCE', 'CLINICAL_GROUP', 'PATH_GROUP', 'AJCC']\n",
    "\n",
    "df_dx_treg = df_dx_treg.rename(columns=cols_dict)\n",
    "df_dx_treg = df_dx_treg[cols_keep]\n",
    "\n",
    "# df_dx_treg_mets = df_dx_treg_mets.drop(columns=['IS_STAGE_IV_ICDO_SOLID', 'ICDO_IS_DISTANT_SOLID'])"
   ]
  },
  {
   "cell_type": "code",
   "execution_count": 14,
   "metadata": {},
   "outputs": [
    {
     "ename": "NameError",
     "evalue": "name 'df_dx_treg' is not defined",
     "output_type": "error",
     "traceback": [
      "\u001b[0;31m---------------------------------------------------------------------------\u001b[0m",
      "\u001b[0;31mNameError\u001b[0m                                 Traceback (most recent call last)",
      "\u001b[0;32m/tmp/ipykernel_1741189/1998939124.py\u001b[0m in \u001b[0;36m<module>\u001b[0;34m\u001b[0m\n\u001b[0;32m----> 1\u001b[0;31m \u001b[0mdf_dx_treg\u001b[0m\u001b[0;34m.\u001b[0m\u001b[0mhead\u001b[0m\u001b[0;34m(\u001b[0m\u001b[0;36m1\u001b[0m\u001b[0;34m)\u001b[0m\u001b[0;34m;\u001b[0m\u001b[0;34m\u001b[0m\u001b[0;34m\u001b[0m\u001b[0m\n\u001b[0m",
      "\u001b[0;31mNameError\u001b[0m: name 'df_dx_treg' is not defined"
     ]
    }
   ],
   "source": [
    "df_dx_treg.head(1);\n"
   ]
  },
  {
   "cell_type": "markdown",
   "metadata": {},
   "source": [
    "#### Billing codes\n",
    "##### Metastatic disease"
   ]
  },
  {
   "cell_type": "code",
   "execution_count": 116,
   "metadata": {},
   "outputs": [],
   "source": [
    "cols_dx_billing = ['MRN', 'ICD-9/10 Dx Code', 'Diagnosis Description', 'Diagnosis Date']\n",
    "\n",
    "logic1 = df_dx_timeline['Diagnosis Type'] == 'METS'\n",
    "logic2 = df_dx_timeline['Source'] == 'Billing'\n",
    "logics = logic1 & logic2\n",
    "df_dx_billing = df_dx_timeline.loc[logics, cols_dx_billing]\n"
   ]
  },
  {
   "cell_type": "code",
   "execution_count": 117,
   "metadata": {},
   "outputs": [],
   "source": [
    "df_dx_billing.head(1);\n"
   ]
  },
  {
   "cell_type": "markdown",
   "metadata": {},
   "source": [
    "##### Primary dx"
   ]
  },
  {
   "cell_type": "code",
   "execution_count": 118,
   "metadata": {},
   "outputs": [],
   "source": [
    "logic1 = df_dx_timeline['Diagnosis Type'] == 'CA'\n",
    "logic2 = df_dx_timeline['Source'] == 'Billing'\n",
    "cols_keeps = ['MRN', 'Diagnosis Date']\n",
    "\n",
    "logics = logic1 & logic2\n",
    "df_dx_timeline_prim = df_dx_timeline.loc[logics].copy()\n",
    "dx_desc = df_dx_timeline_prim['Diagnosis'] \n",
    "source = df_dx_timeline_prim['ICD-9/10 Dx Code']\n",
    "df_dx_timeline_prim = df_dx_timeline_prim[cols_keeps]\n",
    "\n",
    "df_dx_timeline_prim = df_dx_timeline_prim.assign(DX_DESCRIPTION=dx_desc)\n",
    "df_dx_timeline_prim = df_dx_timeline_prim.assign(SOURCE=source)\n",
    "\n",
    "\n",
    "\n"
   ]
  },
  {
   "cell_type": "code",
   "execution_count": 119,
   "metadata": {},
   "outputs": [
    {
     "data": {
      "text/html": [
       "<div>\n",
       "<style scoped>\n",
       "    .dataframe tbody tr th:only-of-type {\n",
       "        vertical-align: middle;\n",
       "    }\n",
       "\n",
       "    .dataframe tbody tr th {\n",
       "        vertical-align: top;\n",
       "    }\n",
       "\n",
       "    .dataframe thead th {\n",
       "        text-align: right;\n",
       "    }\n",
       "</style>\n",
       "<table border=\"1\" class=\"dataframe\">\n",
       "  <thead>\n",
       "    <tr style=\"text-align: right;\">\n",
       "      <th></th>\n",
       "      <th>MRN</th>\n",
       "      <th>Diagnosis Date</th>\n",
       "      <th>DX_DESCRIPTION</th>\n",
       "      <th>SOURCE</th>\n",
       "    </tr>\n",
       "  </thead>\n",
       "  <tbody>\n",
       "    <tr>\n",
       "      <th>0</th>\n",
       "      <td>00000094</td>\n",
       "      <td>2016-09-19</td>\n",
       "      <td>MALIGNANT MELANOMA OF SKIN, UNSPECIFIED</td>\n",
       "      <td>C43.9</td>\n",
       "    </tr>\n",
       "  </tbody>\n",
       "</table>\n",
       "</div>"
      ],
      "text/plain": [
       "        MRN Diagnosis Date                           DX_DESCRIPTION SOURCE\n",
       "0  00000094     2016-09-19  MALIGNANT MELANOMA OF SKIN, UNSPECIFIED  C43.9"
      ]
     },
     "execution_count": 119,
     "metadata": {},
     "output_type": "execute_result"
    }
   ],
   "source": [
    "df_dx_timeline_prim.head(1)"
   ]
  },
  {
   "cell_type": "markdown",
   "metadata": {},
   "source": [
    "### Load Radiology report met predictions"
   ]
  },
  {
   "cell_type": "code",
   "execution_count": 23,
   "metadata": {},
   "outputs": [],
   "source": [
    "df_rad_pred = obj_minio.load_obj(bucket_name=BUCKET, \n",
    "                               path_object=fname_rad_pred, \n",
    "                               sep=',')\n",
    "df_rad_pred['RADIOLOGY_PERFORMED_DATE'] = pd.to_datetime(df_rad_pred['RADIOLOGY_PERFORMED_DATE'])\n",
    "df_rad_pred = df_rad_pred.drop(columns=['ACCESSION_NUMBER'])\n"
   ]
  },
  {
   "cell_type": "code",
   "execution_count": 15,
   "metadata": {},
   "outputs": [
    {
     "ename": "NameError",
     "evalue": "name 'df_rad_pred' is not defined",
     "output_type": "error",
     "traceback": [
      "\u001b[0;31m---------------------------------------------------------------------------\u001b[0m",
      "\u001b[0;31mNameError\u001b[0m                                 Traceback (most recent call last)",
      "\u001b[0;32m/tmp/ipykernel_1741189/3647606569.py\u001b[0m in \u001b[0;36m<module>\u001b[0;34m\u001b[0m\n\u001b[0;32m----> 1\u001b[0;31m \u001b[0mdf_rad_pred\u001b[0m\u001b[0;34m.\u001b[0m\u001b[0mhead\u001b[0m\u001b[0;34m(\u001b[0m\u001b[0;34m)\u001b[0m\u001b[0;34m;\u001b[0m\u001b[0;34m\u001b[0m\u001b[0;34m\u001b[0m\u001b[0m\n\u001b[0m",
      "\u001b[0;31mNameError\u001b[0m: name 'df_rad_pred' is not defined"
     ]
    }
   ],
   "source": [
    "df_rad_pred.head();\n"
   ]
  },
  {
   "cell_type": "markdown",
   "metadata": {},
   "source": [
    "## Merge and clean input data\n",
    "- Add date of birth and sex/gender to dataframes\n",
    "- Add impact IDs\n",
    "- Select important columns"
   ]
  },
  {
   "cell_type": "markdown",
   "metadata": {},
   "source": [
    "### Sample data"
   ]
  },
  {
   "cell_type": "code",
   "execution_count": 37,
   "metadata": {},
   "outputs": [],
   "source": [
    "df_samples_f = df_sample_summary.merge(right=df_samples, how='right', on=['SAMPLE_ID', 'DMP_ID'])\n",
    "df_samples_f = df_samples_f.merge(right=df_demo, how='left', on='MRN')\n",
    "\n",
    "age_dop = (df_samples_f['DATE_OF_PROCEDURE_SURGICAL_EST'] - df_samples_f['PT_BIRTH_DTE']).dt.days\n",
    "df_samples_f = df_samples_f.assign(AGE_DX=age_dop)\n",
    "\n",
    "df_samples_f = df_samples_f[df_samples_f['AGE_DX'].notnull()]\n",
    "df_samples_f['AGE_DX'] = df_samples_f['AGE_DX'].astype(int) \n",
    "df_samples_f = df_samples_f.drop(columns=['MRN', 'DATE_OF_PROCEDURE_SURGICAL_EST', 'PT_BIRTH_DTE'])\n"
   ]
  },
  {
   "cell_type": "code",
   "execution_count": 16,
   "metadata": {},
   "outputs": [
    {
     "ename": "NameError",
     "evalue": "name 'df_samples_f' is not defined",
     "output_type": "error",
     "traceback": [
      "\u001b[0;31m---------------------------------------------------------------------------\u001b[0m",
      "\u001b[0;31mNameError\u001b[0m                                 Traceback (most recent call last)",
      "\u001b[0;32m/tmp/ipykernel_1741189/2910749603.py\u001b[0m in \u001b[0;36m<module>\u001b[0;34m\u001b[0m\n\u001b[0;32m----> 1\u001b[0;31m \u001b[0mprint\u001b[0m\u001b[0;34m(\u001b[0m\u001b[0mdf_samples_f\u001b[0m\u001b[0;34m.\u001b[0m\u001b[0mshape\u001b[0m\u001b[0;34m)\u001b[0m\u001b[0;34m\u001b[0m\u001b[0;34m\u001b[0m\u001b[0m\n\u001b[0m\u001b[1;32m      2\u001b[0m \u001b[0mdf_samples_f\u001b[0m\u001b[0;34m.\u001b[0m\u001b[0mhead\u001b[0m\u001b[0;34m(\u001b[0m\u001b[0;36m1\u001b[0m\u001b[0;34m)\u001b[0m\u001b[0;34m;\u001b[0m\u001b[0;34m\u001b[0m\u001b[0;34m\u001b[0m\u001b[0m\n",
      "\u001b[0;31mNameError\u001b[0m: name 'df_samples_f' is not defined"
     ]
    }
   ],
   "source": [
    "print(df_samples_f.shape)\n",
    "df_samples_f.head(1);\n"
   ]
  },
  {
   "cell_type": "markdown",
   "metadata": {
    "tags": []
   },
   "source": [
    "### Billing code data"
   ]
  },
  {
   "cell_type": "markdown",
   "metadata": {},
   "source": [
    "#### Mets and LN"
   ]
  },
  {
   "cell_type": "code",
   "execution_count": 120,
   "metadata": {},
   "outputs": [],
   "source": [
    "df_dx_billing_f = df_dx_billing.merge(right=df_demo, how='left', on='MRN')\n",
    "df_id_map = df_sample_summary[['DMP_ID', 'MRN']].drop_duplicates()\n",
    "df_dx_billing_f = df_id_map.merge(right=df_dx_billing_f, how='right', on='MRN')\n",
    "\n",
    "age_dx = (df_dx_billing_f['Diagnosis Date'] - df_dx_billing_f['PT_BIRTH_DTE']).dt.days\n",
    "df_dx_billing_f = df_dx_billing_f.assign(AGE_DX=age_dx)\n",
    "\n",
    "df_dx_billing_f = df_dx_billing_f.drop(columns=['Diagnosis Date', 'PT_BIRTH_DTE', 'MRN'])\n",
    "df_dx_billing_f = df_dx_billing_f[df_dx_billing_f['DMP_ID'].notnull()]"
   ]
  },
  {
   "cell_type": "code",
   "execution_count": 17,
   "metadata": {},
   "outputs": [
    {
     "ename": "NameError",
     "evalue": "name 'df_dx_billing_f' is not defined",
     "output_type": "error",
     "traceback": [
      "\u001b[0;31m---------------------------------------------------------------------------\u001b[0m",
      "\u001b[0;31mNameError\u001b[0m                                 Traceback (most recent call last)",
      "\u001b[0;32m/tmp/ipykernel_1741189/2973342345.py\u001b[0m in \u001b[0;36m<module>\u001b[0;34m\u001b[0m\n\u001b[0;32m----> 1\u001b[0;31m \u001b[0mdf_dx_billing_f\u001b[0m\u001b[0;34m.\u001b[0m\u001b[0mhead\u001b[0m\u001b[0;34m(\u001b[0m\u001b[0;36m1\u001b[0m\u001b[0;34m)\u001b[0m\u001b[0;34m;\u001b[0m\u001b[0;34m\u001b[0m\u001b[0;34m\u001b[0m\u001b[0m\n\u001b[0m",
      "\u001b[0;31mNameError\u001b[0m: name 'df_dx_billing_f' is not defined"
     ]
    }
   ],
   "source": [
    "df_dx_billing_f.head(1);"
   ]
  },
  {
   "cell_type": "markdown",
   "metadata": {},
   "source": [
    "#### Primary dx"
   ]
  },
  {
   "cell_type": "code",
   "execution_count": 122,
   "metadata": {},
   "outputs": [],
   "source": [
    "df_dx_billing_prim_f = df_dx_timeline_prim.merge(right=df_demo, how='left', on='MRN')\n",
    "df_id_map = df_sample_summary[['DMP_ID', 'MRN']].drop_duplicates()\n",
    "df_dx_billing_prim_f = df_id_map.merge(right=df_dx_billing_prim_f, how='right', on='MRN')\n",
    "\n",
    "age_dx = (df_dx_billing_prim_f['Diagnosis Date'] - df_dx_billing_prim_f['PT_BIRTH_DTE']).dt.days\n",
    "df_dx_billing_prim_f = df_dx_billing_prim_f.assign(START_DATE=age_dx)\n",
    "\n",
    "df_dx_billing_prim_f = df_dx_billing_prim_f.drop(columns=['Diagnosis Date', 'PT_BIRTH_DTE', 'MRN'])\n",
    "df_dx_billing_prim_f = df_dx_billing_prim_f[df_dx_billing_prim_f['DMP_ID'].notnull()]\n",
    "\n",
    "df_dx_billing_prim_f = df_dx_billing_prim_f.rename(columns={'DMP_ID': 'PATIENT_ID'})\n",
    "\n",
    "\n",
    "df_dx_billing_prim_f = df_dx_billing_prim_f.assign(STOP_DATE='')\n",
    "df_dx_billing_prim_f = df_dx_billing_prim_f.assign(EVENT_TYPE='Diagnosis')\n",
    "df_dx_billing_prim_f = df_dx_billing_prim_f.assign(SUBTYPE='ICD Billing')\n",
    "df_dx_billing_prim_f = df_dx_billing_prim_f.assign(AJCC='')\n",
    "df_dx_billing_prim_f = df_dx_billing_prim_f.assign(CLINICAL_GROUP='')\n",
    "df_dx_billing_prim_f = df_dx_billing_prim_f.assign(PATH_GROUP='')\n",
    "\n",
    "df_dx_billing_prim_f = df_dx_billing_prim_f[col_order_prim]\n"
   ]
  },
  {
   "cell_type": "code",
   "execution_count": 18,
   "metadata": {},
   "outputs": [
    {
     "ename": "NameError",
     "evalue": "name 'df_dx_billing_prim_f' is not defined",
     "output_type": "error",
     "traceback": [
      "\u001b[0;31m---------------------------------------------------------------------------\u001b[0m",
      "\u001b[0;31mNameError\u001b[0m                                 Traceback (most recent call last)",
      "\u001b[0;32m/tmp/ipykernel_1741189/2817574448.py\u001b[0m in \u001b[0;36m<module>\u001b[0;34m\u001b[0m\n\u001b[0;32m----> 1\u001b[0;31m \u001b[0mdf_dx_billing_prim_f\u001b[0m\u001b[0;34m.\u001b[0m\u001b[0mhead\u001b[0m\u001b[0;34m(\u001b[0m\u001b[0;36m1\u001b[0m\u001b[0;34m)\u001b[0m\u001b[0;34m;\u001b[0m\u001b[0;34m\u001b[0m\u001b[0;34m\u001b[0m\u001b[0m\n\u001b[0m",
      "\u001b[0;31mNameError\u001b[0m: name 'df_dx_billing_prim_f' is not defined"
     ]
    }
   ],
   "source": [
    "df_dx_billing_prim_f.head(1);"
   ]
  },
  {
   "cell_type": "markdown",
   "metadata": {},
   "source": [
    "### Tumor registry data"
   ]
  },
  {
   "cell_type": "code",
   "execution_count": 124,
   "metadata": {},
   "outputs": [],
   "source": [
    "df_dx_treg_f = df_dx_treg.merge(right=df_demo, how='left', on='MRN')\n",
    "df_id_map = df_sample_summary[['DMP_ID', 'MRN']].drop_duplicates()\n",
    "df_dx_treg_f = df_id_map.merge(right=df_dx_treg_f, how='right', on='MRN')\n",
    "\n",
    "age_dx = (df_dx_treg_f['Diagnosis Date'] - df_dx_treg_f['PT_BIRTH_DTE']).dt.days\n",
    "df_dx_treg_f = df_dx_treg_f.drop(columns=['MRN', 'GENDER', 'Diagnosis Date', 'PT_BIRTH_DTE'])\n",
    "df_dx_treg_f = df_dx_treg_f[df_dx_treg_f['DMP_ID'].notnull()]\n",
    "\n",
    "df_dx_treg_f = df_dx_treg_f.rename(columns={'DMP_ID': 'PATIENT_ID'})\n",
    "\n",
    "df_dx_treg_f = df_dx_treg_f.assign(START_DATE=age_dx)\n",
    "df_dx_treg_f = df_dx_treg_f.assign(STOP_DATE='')\n",
    "df_dx_treg_f = df_dx_treg_f.assign(EVENT_TYPE='Diagnosis')\n",
    "df_dx_treg_f = df_dx_treg_f.assign(SUBTYPE='Tumor Registry')\n",
    "df_dx_treg_f = df_dx_treg_f.assign(SOURCE='Tumor Registry')\n",
    "\n",
    "df_dx_treg_f = df_dx_treg_f[col_order_prim]\n"
   ]
  },
  {
   "cell_type": "code",
   "execution_count": 22,
   "metadata": {},
   "outputs": [
    {
     "ename": "NameError",
     "evalue": "name 'df_dx_treg_f' is not defined",
     "output_type": "error",
     "traceback": [
      "\u001b[0;31m---------------------------------------------------------------------------\u001b[0m",
      "\u001b[0;31mNameError\u001b[0m                                 Traceback (most recent call last)",
      "\u001b[0;32m/tmp/ipykernel_1741189/2648537632.py\u001b[0m in \u001b[0;36m<module>\u001b[0;34m\u001b[0m\n\u001b[0;32m----> 1\u001b[0;31m \u001b[0mdf_dx_treg_f\u001b[0m\u001b[0;34m.\u001b[0m\u001b[0mhead\u001b[0m\u001b[0;34m(\u001b[0m\u001b[0;36m1\u001b[0m\u001b[0;34m)\u001b[0m\u001b[0;34m;\u001b[0m\u001b[0;34m\u001b[0m\u001b[0;34m\u001b[0m\u001b[0m\n\u001b[0m",
      "\u001b[0;31mNameError\u001b[0m: name 'df_dx_treg_f' is not defined"
     ]
    }
   ],
   "source": [
    "df_dx_treg_f.head(1);"
   ]
  },
  {
   "cell_type": "code",
   "execution_count": 21,
   "metadata": {},
   "outputs": [
    {
     "ename": "NameError",
     "evalue": "name 'df_dx_treg_f' is not defined",
     "output_type": "error",
     "traceback": [
      "\u001b[0;31m---------------------------------------------------------------------------\u001b[0m",
      "\u001b[0;31mNameError\u001b[0m                                 Traceback (most recent call last)",
      "\u001b[0;32m/tmp/ipykernel_1741189/3669657980.py\u001b[0m in \u001b[0;36m<module>\u001b[0;34m\u001b[0m\n\u001b[0;32m----> 1\u001b[0;31m \u001b[0mpd\u001b[0m\u001b[0;34m.\u001b[0m\u001b[0mconcat\u001b[0m\u001b[0;34m(\u001b[0m\u001b[0;34m[\u001b[0m\u001b[0mdf_dx_treg_f\u001b[0m\u001b[0;34m,\u001b[0m \u001b[0mdf_dx_billing_prim_f\u001b[0m\u001b[0;34m]\u001b[0m\u001b[0;34m,\u001b[0m \u001b[0maxis\u001b[0m\u001b[0;34m=\u001b[0m\u001b[0;36m0\u001b[0m\u001b[0;34m,\u001b[0m \u001b[0msort\u001b[0m\u001b[0;34m=\u001b[0m\u001b[0;32mFalse\u001b[0m\u001b[0;34m)\u001b[0m\u001b[0;34m.\u001b[0m\u001b[0msort_values\u001b[0m\u001b[0;34m(\u001b[0m\u001b[0mby\u001b[0m\u001b[0;34m=\u001b[0m\u001b[0;34m[\u001b[0m\u001b[0;34m'PATIENT_ID'\u001b[0m\u001b[0;34m,\u001b[0m \u001b[0;34m'START_DATE'\u001b[0m\u001b[0;34m]\u001b[0m\u001b[0;34m)\u001b[0m\u001b[0;34m;\u001b[0m\u001b[0;34m\u001b[0m\u001b[0;34m\u001b[0m\u001b[0m\n\u001b[0m",
      "\u001b[0;31mNameError\u001b[0m: name 'df_dx_treg_f' is not defined"
     ]
    }
   ],
   "source": [
    "pd.concat([df_dx_treg_f, df_dx_billing_prim_f], axis=0, sort=False).sort_values(by=['PATIENT_ID', 'START_DATE']);"
   ]
  },
  {
   "cell_type": "markdown",
   "metadata": {},
   "source": [
    "### Radiology report predictions"
   ]
  },
  {
   "cell_type": "code",
   "execution_count": 77,
   "metadata": {},
   "outputs": [],
   "source": [
    "dict_cols = {'Adrenal_Glands': 'ADRENAL_GLAND', \n",
    "             'Biliary_Tract': 'BILIARY_TRACT', \n",
    "             'Bone': 'BONE', \n",
    "             'Bowel': 'BOWEL', \n",
    "             'CNS_Brain': 'CNS_BRAIN', \n",
    "             'Liver': 'LIVER', \n",
    "             'Lung': 'LUNG', \n",
    "             'Lymph_Nodes': 'LYMPH', \n",
    "             'Mediastinum': 'MEDIASTINUM', \n",
    "             'Intra.Abdominal': 'INTRA_ABDOMINAL', \n",
    "             'Pleura': 'PLEURA'\n",
    "            }\n",
    "# missing: 'BLADDER_OR_URINARY_TRACT', 'BREAST', 'GENITAL_MALE', 'GENITAL_FEMALE', 'HEAD_AND_NECK', 'KIDNEY', 'OTHER', 'OVARY', 'PERIPHERAL_NERVOUS_SYSTEM', 'SKIN'\n",
    "cols_organs = list(dict_cols.values()) + ['GENITAL_FEMALE', 'GENITAL_MALE']\n",
    "\n",
    "df_id_map = df_sample_summary[['DMP_ID', 'MRN']].drop_duplicates()\n",
    "df_rad_pred_f = df_id_map.merge(right=df_rad_pred, how='right', on='DMP_ID')\n",
    "df_rad_pred_f = df_rad_pred_f.merge(right=df_demo, how='left', on='MRN')\n",
    "\n",
    "age_dx = (df_rad_pred_f['RADIOLOGY_PERFORMED_DATE'] - df_rad_pred_f['PT_BIRTH_DTE']).dt.days\n",
    "df_rad_pred_f = df_rad_pred_f.assign(AGE_DX=age_dx)\n",
    "\n",
    "df_rad_pred_f = df_rad_pred_f.rename(columns=dict_cols)\n",
    "GENITAL_MALE = (df_rad_pred_f['Reproductive_Organs'] == 1) & (df_rad_pred_f['GENDER'] == 'MALE')\n",
    "GENITAL_FEMALE = (df_rad_pred_f['Reproductive_Organs'] == 1) & (df_rad_pred_f['GENDER'] == 'FEMALE')\n",
    "df_rad_pred_f = df_rad_pred_f.assign(GENITAL_MALE=GENITAL_MALE)\n",
    "df_rad_pred_f = df_rad_pred_f.assign(GENITAL_FEMALE=GENITAL_FEMALE)\n",
    "\n",
    "\n",
    "cols_id = ['DMP_ID', 'AGE_DX', 'PROCEDURE_TYPE']\n",
    "\n",
    "\n",
    "\n",
    "df_rad_pred_f_melt = pd.melt(frame=df_rad_pred_f, id_vars=cols_id, value_vars=cols_organs, var_name='ANATOMIC_LOCATION', value_name='value')\n",
    "df_rad_pred_f_melt['value'] = df_rad_pred_f_melt['value'].astype(int)\n",
    "\n",
    "\n",
    "df_rad_pred_f_melt = df_rad_pred_f_melt.rename(columns={'PROCEDURE_TYPE': 'SOURCE_SPECIFIC',\n",
    "                                                       'AGE_DX': 'START_DATE',\n",
    "                                                       'DMP_ID': 'PATIENT_ID',\n",
    "                                                       })\n",
    "\n",
    "df_rad_pred_f_melt = df_rad_pred_f_melt[df_rad_pred_f_melt['value'] == 1]\n",
    "df_rad_pred_f_melt = df_rad_pred_f_melt.drop(columns=['value'])\n",
    "\n",
    "\n",
    "df_rad_pred_f_melt = df_rad_pred_f_melt.assign(SOURCE='MSK-IMPACT')\n",
    "df_rad_pred_f_melt = df_rad_pred_f_melt.assign(STOP_DATE='')\n",
    "df_rad_pred_f_melt = df_rad_pred_f_melt.assign(EVENT_TYPE='Diagnosis')\n",
    "df_rad_pred_f_melt = df_rad_pred_f_melt.assign(DX_DESCRIPTION='NLP Derived')\n",
    "df_rad_pred_f_melt = df_rad_pred_f_melt.assign(SOURCE='Radiology Report')\n",
    "\n",
    "\n",
    "\n"
   ]
  },
  {
   "cell_type": "markdown",
   "metadata": {},
   "source": [
    "#### Non-LN Organs"
   ]
  },
  {
   "cell_type": "code",
   "execution_count": 81,
   "metadata": {},
   "outputs": [],
   "source": [
    "df_rad_pred_f_melt_vis = df_rad_pred_f_melt[~df_rad_pred_f_melt['ANATOMIC_LOCATION'].isin(['LYMPH'])]\n",
    "df_rad_pred_f_melt_vis = df_rad_pred_f_melt_vis.assign(SUBTYPE='Metastasis')\n",
    "df_rad_pred_f_melt_vis = df_rad_pred_f_melt_vis[col_order]"
   ]
  },
  {
   "cell_type": "code",
   "execution_count": 19,
   "metadata": {},
   "outputs": [
    {
     "ename": "NameError",
     "evalue": "name 'df_rad_pred_f_melt_vis' is not defined",
     "output_type": "error",
     "traceback": [
      "\u001b[0;31m---------------------------------------------------------------------------\u001b[0m",
      "\u001b[0;31mNameError\u001b[0m                                 Traceback (most recent call last)",
      "\u001b[0;32m/tmp/ipykernel_1741189/2636593190.py\u001b[0m in \u001b[0;36m<module>\u001b[0;34m\u001b[0m\n\u001b[0;32m----> 1\u001b[0;31m \u001b[0mdf_rad_pred_f_melt_vis\u001b[0m\u001b[0;34m.\u001b[0m\u001b[0mhead\u001b[0m\u001b[0;34m(\u001b[0m\u001b[0;34m)\u001b[0m\u001b[0;34m;\u001b[0m\u001b[0;34m\u001b[0m\u001b[0;34m\u001b[0m\u001b[0m\n\u001b[0m",
      "\u001b[0;31mNameError\u001b[0m: name 'df_rad_pred_f_melt_vis' is not defined"
     ]
    }
   ],
   "source": [
    "df_rad_pred_f_melt_vis.head();"
   ]
  },
  {
   "cell_type": "markdown",
   "metadata": {},
   "source": [
    "#### Lymph node annotations"
   ]
  },
  {
   "cell_type": "code",
   "execution_count": 84,
   "metadata": {},
   "outputs": [],
   "source": [
    "df_rad_pred_f_melt_ln = df_rad_pred_f_melt[df_rad_pred_f_melt['ANATOMIC_LOCATION'].isin(['LYMPH'])]\n",
    "df_rad_pred_f_melt_ln = df_rad_pred_f_melt_ln.assign(SUBTYPE='Lymph Nodes')\n",
    "df_rad_pred_f_melt_ln = df_rad_pred_f_melt_ln[col_order]"
   ]
  },
  {
   "cell_type": "code",
   "execution_count": 20,
   "metadata": {},
   "outputs": [
    {
     "ename": "NameError",
     "evalue": "name 'df_rad_pred_f_melt_ln' is not defined",
     "output_type": "error",
     "traceback": [
      "\u001b[0;31m---------------------------------------------------------------------------\u001b[0m",
      "\u001b[0;31mNameError\u001b[0m                                 Traceback (most recent call last)",
      "\u001b[0;32m/tmp/ipykernel_1741189/1724679180.py\u001b[0m in \u001b[0;36m<module>\u001b[0;34m\u001b[0m\n\u001b[0;32m----> 1\u001b[0;31m \u001b[0mdf_rad_pred_f_melt_ln\u001b[0m\u001b[0;34m.\u001b[0m\u001b[0mhead\u001b[0m\u001b[0;34m(\u001b[0m\u001b[0;34m)\u001b[0m\u001b[0;34m;\u001b[0m\u001b[0;34m\u001b[0m\u001b[0;34m\u001b[0m\u001b[0m\n\u001b[0m",
      "\u001b[0;31mNameError\u001b[0m: name 'df_rad_pred_f_melt_ln' is not defined"
     ]
    }
   ],
   "source": [
    "df_rad_pred_f_melt_ln.head();"
   ]
  },
  {
   "cell_type": "markdown",
   "metadata": {},
   "source": [
    "## Load Mapping Objects"
   ]
  },
  {
   "cell_type": "markdown",
   "metadata": {},
   "source": [
    "### Load mapping tables"
   ]
  },
  {
   "cell_type": "code",
   "execution_count": 12,
   "metadata": {},
   "outputs": [
    {
     "name": "stdout",
     "output_type": "stream",
     "text": [
      "Loading mapping tables\n"
     ]
    }
   ],
   "source": [
    "# Load RDN mapping\n",
    "obj_met_map_rdn = MetastaticSpreadMappingRND(path=const.pathname,\n",
    "                                             fname_all_sites=const.fname_mapping_rdn_all_sites,\n",
    "                                             fname_hematogenous=const.fname_mapping_rdn_hematogenous,\n",
    "                                             fname_localext=const.fname_mapping_rdn_localext,\n",
    "                                             fname_lymphatic=const.fname_mapping_rdn_lymphatic,\n",
    "                                             fname_site_map=const.fname_mapping_rdn_site_map,\n",
    "                                             fname_billing_map=const.fname_mapping_rdn_billing_map,\n",
    "                                             fname_billing_code_dict=const.fname_mapping_rdn_to_billing_codes)\n"
   ]
  },
  {
   "cell_type": "code",
   "execution_count": 13,
   "metadata": {},
   "outputs": [
    {
     "data": {
      "text/plain": [
       "'/mind_data/fongc2/organ-site-mapping/mappings'"
      ]
     },
     "execution_count": 13,
     "metadata": {},
     "output_type": "execute_result"
    }
   ],
   "source": [
    "const.pathname\n"
   ]
  },
  {
   "cell_type": "markdown",
   "metadata": {},
   "source": [
    "### Load mapping object"
   ]
  },
  {
   "cell_type": "code",
   "execution_count": 14,
   "metadata": {},
   "outputs": [],
   "source": [
    "# Load annoations object\n",
    "obj_mapping = OrganMappingAnalysisRND(obj_met_map=obj_met_map_rdn)\n"
   ]
  },
  {
   "cell_type": "code",
   "execution_count": 15,
   "metadata": {},
   "outputs": [
    {
     "data": {
      "text/plain": [
       "array(['ADRENAL_GLAND', 'BILIARY_TRACT', 'BLADDER_OR_URINARY_TRACT',\n",
       "       'BONE', 'BOWEL', 'BREAST', 'CNS_BRAIN', 'GENITAL_MALE',\n",
       "       'GENITAL_FEMALE', 'HEAD_AND_NECK', 'KIDNEY', 'LIVER', 'LUNG',\n",
       "       'LYMPH', 'MEDIASTINUM', 'OTHER', 'OVARY',\n",
       "       'PERIPHERAL_NERVOUS_SYSTEM', 'INTRA_ABDOMINAL', 'PLEURA', 'SKIN'],\n",
       "      dtype=object)"
      ]
     },
     "execution_count": 15,
     "metadata": {},
     "output_type": "execute_result"
    }
   ],
   "source": [
    "obj_met_map_rdn.df_map_icd_mapping['tissue_icd_billing'].unique()\n"
   ]
  },
  {
   "cell_type": "markdown",
   "metadata": {},
   "source": [
    "## Apply mappings and format frames into cBioPortal timeline format\n",
    "### Clinical Samples Table from cBioPortal"
   ]
  },
  {
   "cell_type": "code",
   "execution_count": 49,
   "metadata": {},
   "outputs": [],
   "source": [
    "# Annotate IMPACT sample site data\n",
    "df_met_sites_impact = obj_mapping.annotate_mapping_impact_met_samples(df_samples=df_samples_f, \n",
    "                                                                      col_primary_site=col_prim_site, \n",
    "                                                                      col_met_site=col_met_site, \n",
    "                                                                      label_dist_ln=True)\n",
    "\n",
    "cols_keep = ['DMP_ID', 'AGE_DX', 'METASTATIC_SITE_BILLING_RDN', 'METASTATIC_SITE']\n",
    "df_met_sites_impact = df_met_sites_impact[cols_keep]\n",
    "df_met_sites_impact = df_met_sites_impact.assign(SOURCE='MSK-IMPACT')\n",
    "df_met_sites_impact = df_met_sites_impact.assign(STOP_DATE='')\n",
    "df_met_sites_impact = df_met_sites_impact.assign(EVENT_TYPE='Diagnosis')\n",
    "df_met_sites_impact = df_met_sites_impact.assign(SOURCE='MSK-IMPACT')\n",
    "df_met_sites_impact = df_met_sites_impact.assign(SOURCE_SPECIFIC='Pathology')\n",
    "\n",
    "df_met_sites_impact = df_met_sites_impact.rename(columns={'DMP_ID': 'PATIENT_ID',\n",
    "                                                          'METASTATIC_SITE_BILLING_RDN': 'ANATOMIC_LOCATION',\n",
    "                                                          'AGE_DX': 'START_DATE',\n",
    "                                                          'METASTATIC_SITE': 'DX_DESCRIPTION'\n",
    "                                                         })\n"
   ]
  },
  {
   "cell_type": "code",
   "execution_count": 11,
   "metadata": {},
   "outputs": [
    {
     "ename": "NameError",
     "evalue": "name 'df_met_sites_impact' is not defined",
     "output_type": "error",
     "traceback": [
      "\u001b[0;31m---------------------------------------------------------------------------\u001b[0m",
      "\u001b[0;31mNameError\u001b[0m                                 Traceback (most recent call last)",
      "\u001b[0;32m/tmp/ipykernel_214784/1202812518.py\u001b[0m in \u001b[0;36m<module>\u001b[0;34m\u001b[0m\n\u001b[0;32m----> 1\u001b[0;31m \u001b[0mdf_met_sites_impact\u001b[0m\u001b[0;34m.\u001b[0m\u001b[0mhead\u001b[0m\u001b[0;34m(\u001b[0m\u001b[0;34m)\u001b[0m\u001b[0;34m\u001b[0m\u001b[0;34m\u001b[0m\u001b[0m\n\u001b[0m",
      "\u001b[0;31mNameError\u001b[0m: name 'df_met_sites_impact' is not defined"
     ]
    }
   ],
   "source": [
    "df_met_sites_impact.head()"
   ]
  },
  {
   "cell_type": "markdown",
   "metadata": {},
   "source": [
    "#### Non-LN organs"
   ]
  },
  {
   "cell_type": "code",
   "execution_count": 51,
   "metadata": {},
   "outputs": [],
   "source": [
    "df_met_sites_impact_vis = df_met_sites_impact[~df_met_sites_impact['ANATOMIC_LOCATION'].isin(['LYMPH'])]\n",
    "\n",
    "df_met_sites_impact_vis = df_met_sites_impact_vis.assign(SUBTYPE='Metastasis')\n",
    "df_met_sites_impact_vis = df_met_sites_impact_vis[col_order]"
   ]
  },
  {
   "cell_type": "markdown",
   "metadata": {},
   "source": [
    "#### Lymph node annotations"
   ]
  },
  {
   "cell_type": "code",
   "execution_count": 53,
   "metadata": {},
   "outputs": [],
   "source": [
    "df_met_sites_impact_ln = df_met_sites_impact[df_met_sites_impact['ANATOMIC_LOCATION'].isin(['LYMPH'])]\n",
    "df_met_sites_impact_ln = df_met_sites_impact_ln.assign(SUBTYPE='Lymph Nodes')\n",
    "df_met_sites_impact_ln = df_met_sites_impact_ln[col_order]"
   ]
  },
  {
   "cell_type": "code",
   "execution_count": 10,
   "metadata": {},
   "outputs": [
    {
     "ename": "NameError",
     "evalue": "name 'df_met_sites_impact_ln' is not defined",
     "output_type": "error",
     "traceback": [
      "\u001b[0;31m---------------------------------------------------------------------------\u001b[0m",
      "\u001b[0;31mNameError\u001b[0m                                 Traceback (most recent call last)",
      "\u001b[0;32m/tmp/ipykernel_214784/3817810392.py\u001b[0m in \u001b[0;36m<module>\u001b[0;34m\u001b[0m\n\u001b[0;32m----> 1\u001b[0;31m \u001b[0mdf_met_sites_impact_ln\u001b[0m\u001b[0;34m.\u001b[0m\u001b[0mhead\u001b[0m\u001b[0;34m(\u001b[0m\u001b[0;34m)\u001b[0m\u001b[0;34m\u001b[0m\u001b[0;34m\u001b[0m\u001b[0m\n\u001b[0m",
      "\u001b[0;31mNameError\u001b[0m: name 'df_met_sites_impact_ln' is not defined"
     ]
    }
   ],
   "source": [
    "df_met_sites_impact_ln.head()"
   ]
  },
  {
   "cell_type": "markdown",
   "metadata": {},
   "source": [
    "### ICD Billing table "
   ]
  },
  {
   "cell_type": "code",
   "execution_count": null,
   "metadata": {},
   "outputs": [],
   "source": [
    "# Annotate diagnosis table of ICD billings with renzo's mapping of metastatic sites\n",
    "df_met_sites_dx = obj_mapping.annotate_icd_billing_met_dx(df_dx_mets=df_dx_billing_f, \n",
    "                                                          col_icd_billing=col_icd_billing, \n",
    "                                                          col_sex=col_sex,\n",
    "                                                          add_msk_met_anno=True)\n",
    "\n",
    "df_met_sites_dx['Diagnosis Description'] = df_met_sites_dx['ICD-9/10 Dx Code'] + ' - ' + df_met_sites_dx['Diagnosis Description']\n",
    "df_met_sites_dx = df_met_sites_dx.drop(columns=['ICD-9/10 Dx Code', 'GENDER', 'METASTATIC_SITE_RDN_MAP'])\n",
    "\n",
    "df_met_sites_dx = df_met_sites_dx.assign(SOURCE='ICD Billing')\n",
    "df_met_sites_dx = df_met_sites_dx.assign(STOP_DATE='')\n",
    "df_met_sites_dx = df_met_sites_dx.assign(EVENT_TYPE='Diagnosis')\n",
    "df_met_sites_dx = df_met_sites_dx.assign(SOURCE_SPECIFIC='ICD Billing')\n",
    "\n",
    "df_met_sites_dx = df_met_sites_dx.rename(columns={'DMP_ID': 'PATIENT_ID',\n",
    "                                                  'tissue_icd_billing': 'ANATOMIC_LOCATION',\n",
    "                                                  'AGE_DX': 'START_DATE',\n",
    "                                                  'Diagnosis Description': 'DX_DESCRIPTION'\n",
    "                                                  }\n",
    "                                        )\n",
    "df_met_sites_dx"
   ]
  },
  {
   "cell_type": "code",
   "execution_count": null,
   "metadata": {},
   "outputs": [],
   "source": [
    "print(df_dx_billing_f.shape)\n",
    "print(df_met_sites_dx.shape)\n"
   ]
  },
  {
   "cell_type": "markdown",
   "metadata": {},
   "source": [
    "#### Non-LN organs"
   ]
  },
  {
   "cell_type": "code",
   "execution_count": null,
   "metadata": {},
   "outputs": [],
   "source": [
    "df_met_sites_dx_vis = df_met_sites_dx[~df_met_sites_dx['ANATOMIC_LOCATION'].isin(['LYMPH', 'OTHER'])]\n",
    "\n",
    "df_met_sites_dx_vis = df_met_sites_dx_vis.assign(SUBTYPE='Metastasis')\n",
    "df_met_sites_dx_vis = df_met_sites_dx_vis[col_order]"
   ]
  },
  {
   "cell_type": "code",
   "execution_count": null,
   "metadata": {},
   "outputs": [],
   "source": [
    "df_met_sites_dx_vis.head()"
   ]
  },
  {
   "cell_type": "markdown",
   "metadata": {},
   "source": [
    "#### Lymph node annotations"
   ]
  },
  {
   "cell_type": "code",
   "execution_count": null,
   "metadata": {},
   "outputs": [],
   "source": [
    "df_met_sites_dx_ln = df_met_sites_dx[df_met_sites_dx['ANATOMIC_LOCATION'].isin(['LYMPH', 'OTHER'])]\n",
    "\n",
    "df_met_sites_dx_ln = df_met_sites_dx_ln.assign(SUBTYPE='Lymph Nodes')\n",
    "df_met_sites_dx_ln = df_met_sites_dx_ln[col_order]"
   ]
  },
  {
   "cell_type": "code",
   "execution_count": null,
   "metadata": {},
   "outputs": [],
   "source": [
    "# df_met_rdn_anno.head(50)\n",
    "# t = df_met_rdn_anno.groupby('DMP_ID')['CANCER_TYPE'].nunique()\n",
    "# df_met_rdn_anno[df_met_rdn_anno['DMP_ID'].isin(t[t > 1].index)].head(50)\n",
    "\n",
    "df_met_sites_dx_ln.head()"
   ]
  },
  {
   "cell_type": "markdown",
   "metadata": {},
   "source": [
    "## Merge dataframes"
   ]
  },
  {
   "cell_type": "code",
   "execution_count": null,
   "metadata": {},
   "outputs": [],
   "source": [
    "df_mets_f = pd.concat([df_met_sites_impact, df_met_sites_dx_vis], axis=0, sort=False)\n",
    "df_mets_f = df_mets_f.sort_values(by=['PATIENT_ID', 'START_DATE', 'ANATOMIC_LOCATION']).reset_index(drop=True)"
   ]
  },
  {
   "cell_type": "code",
   "execution_count": null,
   "metadata": {},
   "outputs": [],
   "source": [
    "df_mets_f.head(50)"
   ]
  },
  {
   "cell_type": "markdown",
   "metadata": {},
   "source": [
    "## Save annotations"
   ]
  },
  {
   "cell_type": "code",
   "execution_count": null,
   "metadata": {},
   "outputs": [],
   "source": [
    "# Save RDN annotations\n",
    "# df_mets_f.to_csv(pathfilename_out, index=False)\n",
    "obj_minio.save_obj(df=df_mets_f, bucket_name=BUCKET, path_object='sandbox/fongc2/dx_met_timeline.txt', sep='\\t')\n"
   ]
  }
 ],
 "metadata": {
  "kernelspec": {
   "display_name": "env_cdm",
   "language": "python",
   "name": "env_cdm"
  },
  "language_info": {
   "codemirror_mode": {
    "name": "ipython",
    "version": 3
   },
   "file_extension": ".py",
   "mimetype": "text/x-python",
   "name": "python",
   "nbconvert_exporter": "python",
   "pygments_lexer": "ipython3",
   "version": "3.7.12"
  }
 },
 "nbformat": 4,
 "nbformat_minor": 4
}
