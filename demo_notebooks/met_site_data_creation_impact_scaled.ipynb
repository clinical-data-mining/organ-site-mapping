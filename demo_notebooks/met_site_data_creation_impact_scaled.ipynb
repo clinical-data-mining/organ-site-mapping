{
 "cells": [
  {
   "cell_type": "markdown",
   "metadata": {},
   "source": [
    "# met_site_data_creation_impact_scaled.py\n",
    "\n",
    "### By Chris Fong - MSKCC 2022\n",
    "\n",
    "This script will create a standardized table of metastatic sites for for a given \n",
    "- Clinical sample table downloaded from the cohort tab in cBioPortal \n",
    "\n",
    "This script will leveerage RDN's metastatic mapping from IMPACT patient cancer types to distant, lymphatic, regional metastatic disease\n",
    "\n",
    "This script will ONLY cover metastatic samples from IMPACT cohort. ALL metastatic disease sites are not covered\n",
    "\n"
   ]
  },
  {
   "cell_type": "markdown",
   "metadata": {},
   "source": [
    "## Load Libraries"
   ]
  },
  {
   "cell_type": "code",
   "execution_count": 1,
   "metadata": {},
   "outputs": [],
   "source": [
    "import sys  \n",
    "sys.path.insert(0, '../mappings')\n",
    "sys.path.insert(0, '../analysis')\n",
    "sys.path.insert(0, '../')\n",
    "sys.path.insert(0, '/mind_data/fongc2/cdm-utilities/minio_api/')\n",
    "sys.path.insert(0, '/mind_data/fongc2/cdm-utilities/')\n",
    "sys.path.insert(0, '/mind_data/fongc2/diagnosis_event_abstraction_icd/cbioportal/')\n",
    "\n",
    "\n",
    "import os\n",
    "import pandas as pd\n",
    "from minio_api import MinioAPI\n",
    "import constants_o_sites as const\n",
    "from organ_mapping_analysis import OrganMappingAnalysisRND\n",
    "from organ_mapping_rdn_processing import MetastaticSpreadMappingRND\n",
    "from dx_cbioportal_timeline import cBioPortalDiagnosisTimeline\n",
    "\n",
    "\n",
    "from dotenv import load_dotenv, find_dotenv, dotenv_values\n",
    "\n",
    "\n",
    "from utils import set_debug_console, print_df_without_index, drop_cols, mrn_zero_pad, convert_to_int, read_minio_api_config\n"
   ]
  },
  {
   "cell_type": "code",
   "execution_count": 2,
   "metadata": {},
   "outputs": [],
   "source": [
    "set_debug_console()"
   ]
  },
  {
   "cell_type": "markdown",
   "metadata": {},
   "source": [
    "## Object testing"
   ]
  },
  {
   "cell_type": "code",
   "execution_count": 3,
   "metadata": {},
   "outputs": [
    {
     "data": {
      "text/plain": [
       "'all_sites_clean.csv'"
      ]
     },
     "execution_count": 3,
     "metadata": {},
     "output_type": "execute_result"
    }
   ],
   "source": [
    "const.fname_mapping_rdn_all_sites"
   ]
  },
  {
   "cell_type": "code",
   "execution_count": 4,
   "metadata": {},
   "outputs": [
    {
     "name": "stdout",
     "output_type": "stream",
     "text": [
      "Loading mapping tables\n"
     ]
    }
   ],
   "source": [
    "fname_minio_env = '/mind_data/fongc2/cdm-utilities/minio_env.txt'\n",
    "fname_cbio = 'cbioportal/mskimpact_ids.tsv'\n",
    "fname_dx = 'diagnosis/table_diagnosis_clean.csv'\n",
    "fname_demo = 'demographics/ddp_demographics.tsv'\n",
    "fname_impact_map = 'summary/IMPACT_Darwin_Sample_Summary.tsv'\n",
    "\n",
    "obj_dx_timeline = cBioPortalDiagnosisTimeline(fname_minio_config=fname_minio_env, \n",
    "                                              config_cols=None, \n",
    "                                              const_organ_map=const, \n",
    "                                              fname_impact_map=fname_impact_map, \n",
    "                                              fname_demo=fname_demo, \n",
    "                                              fname_dx=fname_dx, \n",
    "                                              fname_cbio=fname_cbio, \n",
    "                                              fname_rad_pred=None)"
   ]
  },
  {
   "cell_type": "code",
   "execution_count": 5,
   "metadata": {},
   "outputs": [],
   "source": [
    "obj_dx_timeline.metastatic_clean_and_merge()"
   ]
  },
  {
   "cell_type": "code",
   "execution_count": 8,
   "metadata": {},
   "outputs": [],
   "source": [
    "obj_dx_timeline._df_dx_ln_impact['DX_DESCRIPTION'].value_counts();"
   ]
  },
  {
   "cell_type": "markdown",
   "metadata": {},
   "source": [
    "## Minio Setup"
   ]
  },
  {
   "cell_type": "code",
   "execution_count": 13,
   "metadata": {},
   "outputs": [],
   "source": [
    "# env = load_dotenv('/mind_data/fongc2/cdm-utilities/minio_env.txt')\n",
    "config = read_minio_api_config('/mind_data/fongc2/cdm-utilities/minio_env.txt')\n",
    "dict_config = dict(config)"
   ]
  },
  {
   "cell_type": "code",
   "execution_count": 14,
   "metadata": {},
   "outputs": [
    {
     "data": {
      "text/plain": [
       "'/mind_data/fongc2/.env'"
      ]
     },
     "execution_count": 14,
     "metadata": {},
     "output_type": "execute_result"
    }
   ],
   "source": [
    "dict_config['MINIO_ENV']"
   ]
  },
  {
   "cell_type": "code",
   "execution_count": 15,
   "metadata": {},
   "outputs": [],
   "source": [
    "load_dotenv(find_dotenv())\n",
    " \n",
    "ACCESS_KEY = os.getenv(\"ACCESS_KEY\")\n",
    "SECRET_KEY = os.getenv('SECRET_KEY')\n",
    "BUCKET = 'cdm-data'\n",
    "\n",
    "ca_certs = '/mind_data/fongc2/certificate.crt'\n",
    "url_port = \"tllihpcmind6:9000\""
   ]
  },
  {
   "cell_type": "code",
   "execution_count": 16,
   "metadata": {},
   "outputs": [],
   "source": [
    "obj_minio = MinioAPI(ACCESS_KEY=ACCESS_KEY, SECRET_KEY=SECRET_KEY, ca_certs=ca_certs, url_port=url_port)"
   ]
  },
  {
   "cell_type": "code",
   "execution_count": 17,
   "metadata": {},
   "outputs": [
    {
     "name": "stdout",
     "output_type": "stream",
     "text": [
      "sandbox/.ipynb_checkpoints/\n",
      "sandbox/fongc2/dx_met_timeline.txt\n"
     ]
    }
   ],
   "source": [
    "obj_minio.print_list_objects(bucket_name=BUCKET, recursive=True, prefix=\"sandbox\")"
   ]
  },
  {
   "cell_type": "code",
   "execution_count": 18,
   "metadata": {},
   "outputs": [
    {
     "data": {
      "text/html": [
       "<div>\n",
       "<style scoped>\n",
       "    .dataframe tbody tr th:only-of-type {\n",
       "        vertical-align: middle;\n",
       "    }\n",
       "\n",
       "    .dataframe tbody tr th {\n",
       "        vertical-align: top;\n",
       "    }\n",
       "\n",
       "    .dataframe thead th {\n",
       "        text-align: right;\n",
       "    }\n",
       "</style>\n",
       "<table border=\"1\" class=\"dataframe\">\n",
       "  <thead>\n",
       "    <tr style=\"text-align: right;\">\n",
       "      <th></th>\n",
       "      <th>PATIENT_ID</th>\n",
       "      <th>START_DATE</th>\n",
       "      <th>STOP_DATE</th>\n",
       "      <th>EVENT_TYPE</th>\n",
       "      <th>SUBTYPE</th>\n",
       "      <th>SOURCE</th>\n",
       "      <th>SOURCE_SPECIFIC</th>\n",
       "      <th>DX_DESCRIPTION</th>\n",
       "      <th>ANATOMIC_LOCATION</th>\n",
       "    </tr>\n",
       "  </thead>\n",
       "  <tbody>\n",
       "    <tr>\n",
       "      <th>0</th>\n",
       "      <td>P-0000000</td>\n",
       "      <td>19332</td>\n",
       "      <td>NaN</td>\n",
       "      <td>Diagnosis</td>\n",
       "      <td>Metastasis</td>\n",
       "      <td>ICD Billing</td>\n",
       "      <td>ICD Billing</td>\n",
       "      <td>C78.01 - Miscellaneous</td>\n",
       "      <td>LUNG</td>\n",
       "    </tr>\n",
       "    <tr>\n",
       "      <th>1</th>\n",
       "      <td>P-0000000</td>\n",
       "      <td>19332</td>\n",
       "      <td>NaN</td>\n",
       "      <td>Diagnosis</td>\n",
       "      <td>Metastasis</td>\n",
       "      <td>ICD Billing</td>\n",
       "      <td>ICD Billing</td>\n",
       "      <td>C78.1 - Miscellaneous</td>\n",
       "      <td>MEDIASTINUM</td>\n",
       "    </tr>\n",
       "    <tr>\n",
       "      <th>2</th>\n",
       "      <td>P-0000000</td>\n",
       "      <td>20935</td>\n",
       "      <td>NaN</td>\n",
       "      <td>Diagnosis</td>\n",
       "      <td>Metastasis</td>\n",
       "      <td>ICD Billing</td>\n",
       "      <td>ICD Billing</td>\n",
       "      <td>C78.6 - Miscellaneous</td>\n",
       "      <td>INTRA_ABDOMINAL</td>\n",
       "    </tr>\n",
       "    <tr>\n",
       "      <th>3</th>\n",
       "      <td>P-0000000</td>\n",
       "      <td>21624</td>\n",
       "      <td>NaN</td>\n",
       "      <td>Diagnosis</td>\n",
       "      <td>Metastasis</td>\n",
       "      <td>ICD Billing</td>\n",
       "      <td>ICD Billing</td>\n",
       "      <td>198.82 - METS - GENITAL CA-SECONDARY</td>\n",
       "      <td>GENITAL_FEMALE</td>\n",
       "    </tr>\n",
       "    <tr>\n",
       "      <th>4</th>\n",
       "      <td>P-0000000</td>\n",
       "      <td>21624</td>\n",
       "      <td>NaN</td>\n",
       "      <td>Diagnosis</td>\n",
       "      <td>Metastasis</td>\n",
       "      <td>ICD Billing</td>\n",
       "      <td>ICD Billing</td>\n",
       "      <td>198.6 - METS - MET CA TO OVARY</td>\n",
       "      <td>OVARY</td>\n",
       "    </tr>\n",
       "  </tbody>\n",
       "</table>\n",
       "</div>"
      ],
      "text/plain": [
       "  PATIENT_ID  START_DATE  STOP_DATE EVENT_TYPE     SUBTYPE       SOURCE SOURCE_SPECIFIC                        DX_DESCRIPTION ANATOMIC_LOCATION\n",
       "0  P-0000000       19332        NaN  Diagnosis  Metastasis  ICD Billing     ICD Billing                C78.01 - Miscellaneous              LUNG\n",
       "1  P-0000000       19332        NaN  Diagnosis  Metastasis  ICD Billing     ICD Billing                 C78.1 - Miscellaneous       MEDIASTINUM\n",
       "2  P-0000000       20935        NaN  Diagnosis  Metastasis  ICD Billing     ICD Billing                 C78.6 - Miscellaneous   INTRA_ABDOMINAL\n",
       "3  P-0000000       21624        NaN  Diagnosis  Metastasis  ICD Billing     ICD Billing  198.82 - METS - GENITAL CA-SECONDARY    GENITAL_FEMALE\n",
       "4  P-0000000       21624        NaN  Diagnosis  Metastasis  ICD Billing     ICD Billing        198.6 - METS - MET CA TO OVARY             OVARY"
      ]
     },
     "execution_count": 18,
     "metadata": {},
     "output_type": "execute_result"
    }
   ],
   "source": [
    "df_test = obj_minio.load_obj(bucket_name=BUCKET, \n",
    "                               path_object='sandbox/fongc2/dx_met_timeline.txt', \n",
    "                               sep='\\t')\n",
    "df_test.head()"
   ]
  },
  {
   "cell_type": "markdown",
   "metadata": {},
   "source": [
    "## Outputs"
   ]
  },
  {
   "cell_type": "markdown",
   "metadata": {},
   "source": [
    "This script will create a cBioPortal formatted timeline file for metastatic site events\n",
    "Events will be derived from four sources:\n",
    "- Billing codes\n",
    "- IMPACT sample info\n",
    "- ICD-O registry\n",
    "- Radiology reports (NLP predictions)\n",
    "\n",
    "cBioPortal timeline file columns required:\n",
    "- PATIENT_ID\n",
    "- START_DATE\n",
    "- STOP_DATE (For this file, can be left blank)\n",
    "- EVENT_TYPE (Always \"Diagnosis\")\n",
    "- SUBTYPE (For metastatic events, always \"Metastasis\")\n",
    "- SOURCE (ICD Billing, MSK-IMPACT, Radiology Report)\n",
    "- SOURCE_SPECIFIC (Imaging modality: CT, PET, MRI for radiology reports. Pathology for MSK-IMPACT. ICD Billing for billing codes.)\n",
    "- DX_DESCRIPTION (ICD billing description, \"Radiology Report\", Pathology report specimen description (?))\n",
    "- ANATOMIC_LOCATION (MSK-MET derived info)\n"
   ]
  },
  {
   "cell_type": "code",
   "execution_count": 19,
   "metadata": {},
   "outputs": [],
   "source": [
    "col_order = ['PATIENT_ID', \n",
    "              'START_DATE', \n",
    "              'STOP_DATE',\n",
    "              'EVENT_TYPE',\n",
    "              'SUBTYPE',\n",
    "              'SOURCE',\n",
    "              'SOURCE_SPECIFIC',\n",
    "              'DX_DESCRIPTION',\n",
    "              'ANATOMIC_LOCATION']"
   ]
  },
  {
   "cell_type": "markdown",
   "metadata": {},
   "source": [
    "### Filename for output"
   ]
  },
  {
   "cell_type": "code",
   "execution_count": 20,
   "metadata": {},
   "outputs": [],
   "source": [
    "path = '../demo_data'\n",
    "fname_save_anno = 'impact2017_met_site_annotations_impact_scaled.csv'\n",
    "pathfilename_out = os.path.join(path, fname_save_anno)"
   ]
  },
  {
   "cell_type": "markdown",
   "metadata": {},
   "source": [
    "## Load Data\n",
    "- Demographics (for gender)\n",
    "- ID mapping between dmp-id and mrn\n",
    "- IMPACT sample data\n",
    "- IMPACT sample summary (for DOP)\n",
    "- Dx Timeline from Darwin\n",
    "- Radiology report predictions"
   ]
  },
  {
   "cell_type": "markdown",
   "metadata": {},
   "source": [
    "### Load cbioportal clinical data file"
   ]
  },
  {
   "cell_type": "code",
   "execution_count": 21,
   "metadata": {},
   "outputs": [],
   "source": [
    "df_samples1 = obj_minio.load_obj(bucket_name=BUCKET, \n",
    "                               path_object='cbioportal/mskimpact_ids.tsv', \n",
    "                               sep='\\t')\n",
    "\n",
    "# For genie, fix ids\n",
    "col_id = 'SAMPLE_ID'\n",
    "col_id2 = 'DMP_ID'\n",
    "col_sex = 'GENDER'\n",
    "col_sample_type = 'SAMPLE_TYPE'\n",
    "col_prim_site = 'PRIMARY_SITE'\n",
    "col_met_site = 'METASTATIC_SITE'\n",
    "col_icd_billing = 'ICD-9/10 Dx Code'\n",
    "\n",
    "\n",
    "col_rep = {'patientId': col_id2,\n",
    "           'sampleId': col_id}\n",
    "\n",
    "cols_keep = ['SAMPLE_ID',\n",
    "             'DMP_ID',\n",
    "             'CANCER_TYPE',\n",
    "             'SAMPLE_TYPE',\n",
    "             'PRIMARY_SITE',\n",
    "             'METASTATIC_SITE'\n",
    "            ]\n",
    "\n",
    "df_samples = df_samples1.rename(columns=col_rep)\n",
    "# df_samples = df_samples1[list(col_rep.values())]\n",
    "logic1 = df_samples[col_sample_type] == 'Metastasis'\n",
    "df_samples = df_samples.loc[logic1, cols_keep]\n"
   ]
  },
  {
   "cell_type": "code",
   "execution_count": 22,
   "metadata": {},
   "outputs": [
    {
     "data": {
      "text/html": [
       "<div>\n",
       "<style scoped>\n",
       "    .dataframe tbody tr th:only-of-type {\n",
       "        vertical-align: middle;\n",
       "    }\n",
       "\n",
       "    .dataframe tbody tr th {\n",
       "        vertical-align: top;\n",
       "    }\n",
       "\n",
       "    .dataframe thead th {\n",
       "        text-align: right;\n",
       "    }\n",
       "</style>\n",
       "<table border=\"1\" class=\"dataframe\">\n",
       "  <thead>\n",
       "    <tr style=\"text-align: right;\">\n",
       "      <th></th>\n",
       "      <th>sampleId</th>\n",
       "      <th>patientId</th>\n",
       "      <th>AGE_AT_SEQ_REPORTED_YEARS</th>\n",
       "      <th>ARCHER</th>\n",
       "      <th>CANCER_TYPE</th>\n",
       "      <th>CANCER_TYPE_DETAILED</th>\n",
       "      <th>CVR_TMB_COHORT_PERCENTILE</th>\n",
       "      <th>CVR_TMB_SCORE</th>\n",
       "      <th>CVR_TMB_TT_COHORT_PERCENTILE</th>\n",
       "      <th>DATE_ADDED</th>\n",
       "      <th>FRACTION_GENOME_ALTERED</th>\n",
       "      <th>GENE_PANEL</th>\n",
       "      <th>INSTITUTE</th>\n",
       "      <th>METASTATIC_SITE</th>\n",
       "      <th>MGMT_STATUS</th>\n",
       "      <th>MONTH_ADDED</th>\n",
       "      <th>MSI_COMMENT</th>\n",
       "      <th>MSI_SCORE</th>\n",
       "      <th>MSI_TYPE</th>\n",
       "      <th>MSK_SLIDE_ID</th>\n",
       "      <th>MUTATION_COUNT</th>\n",
       "      <th>ONCOTREE_CODE</th>\n",
       "      <th>PATH_SLIDE_EXISTS</th>\n",
       "      <th>PRIMARY_SITE</th>\n",
       "      <th>SAMPLE_CLASS</th>\n",
       "      <th>SAMPLE_COVERAGE</th>\n",
       "      <th>SAMPLE_TYPE</th>\n",
       "      <th>SOMATIC_STATUS</th>\n",
       "      <th>SO_COMMENTS</th>\n",
       "      <th>TUMOR_PURITY</th>\n",
       "      <th>WEEK_ADDED</th>\n",
       "      <th>WHO_GRADE</th>\n",
       "    </tr>\n",
       "  </thead>\n",
       "  <tbody>\n",
       "    <tr>\n",
       "      <th>0</th>\n",
       "      <td>P-0000004-T01-IM3</td>\n",
       "      <td>P-0000004</td>\n",
       "      <td>40</td>\n",
       "      <td>NO</td>\n",
       "      <td>Breast Cancer</td>\n",
       "      <td>Breast Invasive Ductal Carcinoma</td>\n",
       "      <td>58.6</td>\n",
       "      <td>4.5</td>\n",
       "      <td>67.8</td>\n",
       "      <td>2015/04/07</td>\n",
       "      <td>0.2782</td>\n",
       "      <td>IMPACT341</td>\n",
       "      <td>MSKCC</td>\n",
       "      <td>NaN</td>\n",
       "      <td>NaN</td>\n",
       "      <td>2015/04</td>\n",
       "      <td>NaN</td>\n",
       "      <td>2.5</td>\n",
       "      <td>Stable</td>\n",
       "      <td>NaN</td>\n",
       "      <td>4</td>\n",
       "      <td>IDC</td>\n",
       "      <td>NO</td>\n",
       "      <td>Breast</td>\n",
       "      <td>Tumor</td>\n",
       "      <td>428.0</td>\n",
       "      <td>Primary</td>\n",
       "      <td>Matched</td>\n",
       "      <td>NaN</td>\n",
       "      <td>50</td>\n",
       "      <td>2015, Wk. 15</td>\n",
       "      <td>NaN</td>\n",
       "    </tr>\n",
       "  </tbody>\n",
       "</table>\n",
       "</div>"
      ],
      "text/plain": [
       "            sampleId  patientId AGE_AT_SEQ_REPORTED_YEARS ARCHER    CANCER_TYPE              CANCER_TYPE_DETAILED  CVR_TMB_COHORT_PERCENTILE  CVR_TMB_SCORE  CVR_TMB_TT_COHORT_PERCENTILE  DATE_ADDED  FRACTION_GENOME_ALTERED GENE_PANEL INSTITUTE METASTATIC_SITE MGMT_STATUS MONTH_ADDED MSI_COMMENT  MSI_SCORE MSI_TYPE  MSK_SLIDE_ID  MUTATION_COUNT ONCOTREE_CODE PATH_SLIDE_EXISTS PRIMARY_SITE SAMPLE_CLASS  SAMPLE_COVERAGE SAMPLE_TYPE SOMATIC_STATUS SO_COMMENTS TUMOR_PURITY    WEEK_ADDED WHO_GRADE\n",
       "0  P-0000004-T01-IM3  P-0000004                        40     NO  Breast Cancer  Breast Invasive Ductal Carcinoma                       58.6            4.5                          67.8  2015/04/07                   0.2782  IMPACT341     MSKCC             NaN         NaN     2015/04         NaN        2.5   Stable           NaN               4           IDC                NO       Breast        Tumor            428.0     Primary        Matched         NaN           50  2015, Wk. 15       NaN"
      ]
     },
     "execution_count": 22,
     "metadata": {},
     "output_type": "execute_result"
    }
   ],
   "source": [
    "df_samples1.head(1)\n"
   ]
  },
  {
   "cell_type": "markdown",
   "metadata": {},
   "source": [
    "### Load demographics"
   ]
  },
  {
   "cell_type": "code",
   "execution_count": 35,
   "metadata": {},
   "outputs": [],
   "source": [
    "df_demo = obj_minio.load_obj(bucket_name=BUCKET, \n",
    "                               path_object='demographics/ddp_demographics.tsv', \n",
    "                               sep='\\t')\n",
    "\n",
    "df_demo = mrn_zero_pad(df=df_demo, col_mrn='MRN')\n",
    "df_demo = df_demo[['MRN', 'PT_BIRTH_DTE', 'GENDER']]\n",
    "\n",
    "df_demo['PT_BIRTH_DTE'] = pd.to_datetime(df_demo['PT_BIRTH_DTE'])\n",
    "\n"
   ]
  },
  {
   "cell_type": "code",
   "execution_count": 36,
   "metadata": {},
   "outputs": [],
   "source": [
    "df_demo.head(1);\n"
   ]
  },
  {
   "cell_type": "markdown",
   "metadata": {},
   "source": [
    "### Load sample summary data"
   ]
  },
  {
   "cell_type": "code",
   "execution_count": 24,
   "metadata": {},
   "outputs": [],
   "source": [
    "df_sample_summary = obj_minio.load_obj(bucket_name=BUCKET, \n",
    "                               path_object='summary/IMPACT_Darwin_Sample_Summary.tsv', \n",
    "                               sep='\\t')\n",
    "\n",
    "df_sample_summary = convert_to_int(df=df_sample_summary, list_cols=['MRN'])\n",
    "df_sample_summary = mrn_zero_pad(df=df_sample_summary, col_mrn='MRN')\n",
    "\n",
    "cols_keep = ['MRN', 'SAMPLE_ID', 'DMP_ID', 'DATE_OF_PROCEDURE_SURGICAL_EST']\n",
    "df_sample_summary = df_sample_summary[cols_keep]\n",
    "\n",
    "df_sample_summary['DATE_OF_PROCEDURE_SURGICAL_EST'] = pd.to_datetime(df_sample_summary['DATE_OF_PROCEDURE_SURGICAL_EST'])"
   ]
  },
  {
   "cell_type": "code",
   "execution_count": 25,
   "metadata": {},
   "outputs": [],
   "source": [
    "df_sample_summary;"
   ]
  },
  {
   "cell_type": "markdown",
   "metadata": {},
   "source": [
    "### Load ID mapping"
   ]
  },
  {
   "cell_type": "code",
   "execution_count": 26,
   "metadata": {},
   "outputs": [],
   "source": [
    "df_id_map = obj_minio.load_obj(bucket_name=BUCKET, \n",
    "                               path_object='id_mapping/ddp_id_mapping_pathology.tsv', \n",
    "                               sep='\\t')\n",
    "\n",
    "df_id_map = mrn_zero_pad(df=df_id_map, col_mrn='MRN')\n",
    "df_id_map = df_id_map[['MRN', 'DMP_ID']].drop_duplicates()\n",
    "df_id_map = df_id_map[df_id_map['DMP_ID'].notnull()]\n",
    "\n"
   ]
  },
  {
   "cell_type": "code",
   "execution_count": 27,
   "metadata": {},
   "outputs": [],
   "source": [
    "df_id_map.head(1);\n"
   ]
  },
  {
   "cell_type": "markdown",
   "metadata": {},
   "source": [
    "### Load Dx timeline data"
   ]
  },
  {
   "cell_type": "code",
   "execution_count": 28,
   "metadata": {},
   "outputs": [],
   "source": [
    "df_dx_timeline = obj_minio.load_obj(bucket_name=BUCKET, \n",
    "                               path_object='diagnosis/table_diagnosis_clean.csv', \n",
    "                               sep=',')\n",
    "\n",
    "df_dx_timeline = mrn_zero_pad(df=df_dx_timeline, col_mrn='MRN')\n",
    "\n",
    "df_dx_timeline['Diagnosis Date'] = pd.to_datetime(df_dx_timeline['Diagnosis Date'])\n"
   ]
  },
  {
   "cell_type": "markdown",
   "metadata": {},
   "source": [
    "#### Tumor Registry (Add this to Primary Dx timeline)"
   ]
  },
  {
   "cell_type": "code",
   "execution_count": 29,
   "metadata": {},
   "outputs": [],
   "source": [
    "cols_dx_treg = ['MRN', 'Diagnosis Date', \n",
    "           'IS_STAGE_IV_ICDO_SOLID', 'ICDO_IS_DISTANT_SOLID']\n",
    "df_dx_treg = df_dx_timeline.loc[df_dx_timeline['Source'] == 'Tumor Registry', cols_dx_treg]\n",
    "logic = (df_dx_treg['IS_STAGE_IV_ICDO_SOLID'] == True) | (df_dx_treg['ICDO_IS_DISTANT_SOLID'] == True)\n",
    "df_dx_treg_mets = df_dx_treg[logic]\n",
    "\n",
    "df_dx_treg_mets = df_dx_treg_mets.drop(columns=['IS_STAGE_IV_ICDO_SOLID', 'ICDO_IS_DISTANT_SOLID'])"
   ]
  },
  {
   "cell_type": "code",
   "execution_count": 30,
   "metadata": {},
   "outputs": [],
   "source": [
    "df_dx_treg_mets.head(1);\n"
   ]
  },
  {
   "cell_type": "markdown",
   "metadata": {},
   "source": [
    "#### Billing codes"
   ]
  },
  {
   "cell_type": "code",
   "execution_count": 31,
   "metadata": {},
   "outputs": [],
   "source": [
    "cols_dx_billing = ['MRN', 'ICD-9/10 Dx Code', 'Diagnosis Description', 'Diagnosis Date']\n",
    "\n",
    "logic1 = df_dx_timeline['Diagnosis Type'] == 'METS'\n",
    "logic2 = df_dx_timeline['Source'] == 'Billing'\n",
    "logics = logic1 & logic2\n",
    "df_dx_billing = df_dx_timeline.loc[logics, cols_dx_billing]\n"
   ]
  },
  {
   "cell_type": "code",
   "execution_count": 32,
   "metadata": {},
   "outputs": [],
   "source": [
    "df_dx_billing.head(1);\n"
   ]
  },
  {
   "cell_type": "markdown",
   "metadata": {},
   "source": [
    "### Load Radiology report met predictions"
   ]
  },
  {
   "cell_type": "code",
   "execution_count": 33,
   "metadata": {},
   "outputs": [],
   "source": [
    "# TBD\n"
   ]
  },
  {
   "cell_type": "code",
   "execution_count": null,
   "metadata": {},
   "outputs": [],
   "source": []
  },
  {
   "cell_type": "code",
   "execution_count": null,
   "metadata": {},
   "outputs": [],
   "source": [
    "\n",
    "\n"
   ]
  },
  {
   "cell_type": "markdown",
   "metadata": {},
   "source": [
    "## Merge and clean input data\n",
    "- Add date of birth and sex/gender to dataframes\n",
    "- Add impact IDs\n",
    "- Select important columns"
   ]
  },
  {
   "cell_type": "markdown",
   "metadata": {},
   "source": [
    "### Sample data"
   ]
  },
  {
   "cell_type": "code",
   "execution_count": 37,
   "metadata": {},
   "outputs": [],
   "source": [
    "df_samples_f = df_sample_summary.merge(right=df_samples, how='right', on=['SAMPLE_ID', 'DMP_ID'])\n",
    "df_samples_f = df_samples_f.merge(right=df_demo, how='left', on='MRN')\n",
    "\n",
    "age_dop = (df_samples_f['DATE_OF_PROCEDURE_SURGICAL_EST'] - df_samples_f['PT_BIRTH_DTE']).dt.days\n",
    "df_samples_f = df_samples_f.assign(AGE_DX=age_dop)\n",
    "\n",
    "df_samples_f = df_samples_f[df_samples_f['AGE_DX'].notnull()]\n",
    "df_samples_f['AGE_DX'] = df_samples_f['AGE_DX'].astype(int) \n",
    "df_samples_f = df_samples_f.drop(columns=['MRN', 'DATE_OF_PROCEDURE_SURGICAL_EST', 'PT_BIRTH_DTE'])\n"
   ]
  },
  {
   "cell_type": "code",
   "execution_count": 38,
   "metadata": {},
   "outputs": [
    {
     "name": "stdout",
     "output_type": "stream",
     "text": [
      "(25105, 8)\n"
     ]
    },
    {
     "data": {
      "text/html": [
       "<div>\n",
       "<style scoped>\n",
       "    .dataframe tbody tr th:only-of-type {\n",
       "        vertical-align: middle;\n",
       "    }\n",
       "\n",
       "    .dataframe tbody tr th {\n",
       "        vertical-align: top;\n",
       "    }\n",
       "\n",
       "    .dataframe thead th {\n",
       "        text-align: right;\n",
       "    }\n",
       "</style>\n",
       "<table border=\"1\" class=\"dataframe\">\n",
       "  <thead>\n",
       "    <tr style=\"text-align: right;\">\n",
       "      <th></th>\n",
       "      <th>SAMPLE_ID</th>\n",
       "      <th>DMP_ID</th>\n",
       "      <th>CANCER_TYPE</th>\n",
       "      <th>SAMPLE_TYPE</th>\n",
       "      <th>PRIMARY_SITE</th>\n",
       "      <th>METASTATIC_SITE</th>\n",
       "      <th>GENDER</th>\n",
       "      <th>AGE_DX</th>\n",
       "    </tr>\n",
       "  </thead>\n",
       "  <tbody>\n",
       "    <tr>\n",
       "      <th>0</th>\n",
       "      <td>P-0000012-T03-IM3</td>\n",
       "      <td>P-0000012</td>\n",
       "      <td>Non-Small Cell Lung Cancer</td>\n",
       "      <td>Metastasis</td>\n",
       "      <td>Lung</td>\n",
       "      <td>Neck</td>\n",
       "      <td>FEMALE</td>\n",
       "      <td>21180</td>\n",
       "    </tr>\n",
       "  </tbody>\n",
       "</table>\n",
       "</div>"
      ],
      "text/plain": [
       "           SAMPLE_ID     DMP_ID                 CANCER_TYPE SAMPLE_TYPE PRIMARY_SITE METASTATIC_SITE  GENDER  AGE_DX\n",
       "0  P-0000012-T03-IM3  P-0000012  Non-Small Cell Lung Cancer  Metastasis         Lung            Neck  FEMALE   21180"
      ]
     },
     "execution_count": 38,
     "metadata": {},
     "output_type": "execute_result"
    }
   ],
   "source": [
    "print(df_samples_f.shape)\n",
    "df_samples_f.head(1)\n"
   ]
  },
  {
   "cell_type": "markdown",
   "metadata": {},
   "source": [
    "### Billing code data"
   ]
  },
  {
   "cell_type": "code",
   "execution_count": null,
   "metadata": {},
   "outputs": [],
   "source": [
    "df_dx_billing_f = df_dx_billing.merge(right=df_demo, how='left', on='MRN')\n",
    "# df_id_map = df_sample_summary[['DMP_ID', 'MRN']].drop_duplicates()\n",
    "df_dx_billing_f = df_id_map.merge(right=df_dx_billing_f, how='right', on='MRN')\n",
    "\n",
    "age_dx = (df_dx_billing_f['Diagnosis Date'] - df_dx_billing_f['PT_BIRTH_DTE']).dt.days\n",
    "df_dx_billing_f = df_dx_billing_f.assign(AGE_DX=age_dx)\n",
    "\n",
    "df_dx_billing_f = df_dx_billing_f.drop(columns=['Diagnosis Date', 'PT_BIRTH_DTE', 'MRN'])\n",
    "df_dx_billing_f = df_dx_billing_f[df_dx_billing_f['DMP_ID'].notnull()]"
   ]
  },
  {
   "cell_type": "code",
   "execution_count": null,
   "metadata": {},
   "outputs": [],
   "source": [
    "df_dx_billing_f.head(1)"
   ]
  },
  {
   "cell_type": "markdown",
   "metadata": {},
   "source": [
    "### Tumor registry data"
   ]
  },
  {
   "cell_type": "code",
   "execution_count": null,
   "metadata": {},
   "outputs": [],
   "source": [
    "df_dx_treg_mets_f = df_dx_treg_mets.merge(right=df_demo, how='left', on='MRN')\n",
    "# df_id_map = df_sample_summary[['DMP_ID', 'MRN']].drop_duplicates()\n",
    "df_dx_treg_mets_f = df_id_map.merge(right=df_dx_treg_mets_f, how='right', on='MRN')\n",
    "\n",
    "age_dx = (df_dx_treg_mets_f['Diagnosis Date'] - df_dx_treg_mets_f['PT_BIRTH_DTE']).dt.days\n",
    "df_dx_treg_mets_f = df_dx_treg_mets_f.drop(columns=['MRN', 'GENDER', 'Diagnosis Date', 'PT_BIRTH_DTE'])\n",
    "df_dx_treg_mets_f = df_dx_treg_mets_f[df_dx_treg_mets_f['DMP_ID'].notnull()]\n",
    "\n",
    "df_dx_treg_mets_f = df_dx_treg_mets_f.assign(AGE_DX=age_dx)\n",
    "df_dx_treg_mets_f = df_dx_treg_mets_f.assign(ORGAN_SITE='')\n",
    "df_dx_treg_mets_f = df_dx_treg_mets_f.assign(SOURCE='Tumor Registry')\n"
   ]
  },
  {
   "cell_type": "code",
   "execution_count": null,
   "metadata": {},
   "outputs": [],
   "source": [
    "df_dx_treg_mets_f"
   ]
  },
  {
   "cell_type": "markdown",
   "metadata": {},
   "source": [
    "## Load Mapping Objects"
   ]
  },
  {
   "cell_type": "markdown",
   "metadata": {},
   "source": [
    "### Load mapping tables"
   ]
  },
  {
   "cell_type": "code",
   "execution_count": 45,
   "metadata": {},
   "outputs": [
    {
     "name": "stdout",
     "output_type": "stream",
     "text": [
      "Loading mapping tables\n"
     ]
    }
   ],
   "source": [
    "# Load RDN mapping\n",
    "obj_met_map_rdn = MetastaticSpreadMappingRND(path=const.pathname,\n",
    "                                             fname_all_sites=const.fname_mapping_rdn_all_sites,\n",
    "                                             fname_hematogenous=const.fname_mapping_rdn_hematogenous,\n",
    "                                             fname_localext=const.fname_mapping_rdn_localext,\n",
    "                                             fname_lymphatic=const.fname_mapping_rdn_lymphatic,\n",
    "                                             fname_site_map=const.fname_mapping_rdn_site_map,\n",
    "                                             fname_billing_map=const.fname_mapping_rdn_billing_map,\n",
    "                                             fname_billing_code_dict=const.fname_mapping_rdn_to_billing_codes)\n"
   ]
  },
  {
   "cell_type": "code",
   "execution_count": 46,
   "metadata": {},
   "outputs": [
    {
     "data": {
      "text/plain": [
       "'/mind_data/fongc2/organ-site-mapping/mappings'"
      ]
     },
     "execution_count": 46,
     "metadata": {},
     "output_type": "execute_result"
    }
   ],
   "source": [
    "const.pathname\n"
   ]
  },
  {
   "cell_type": "markdown",
   "metadata": {},
   "source": [
    "### Load mapping object"
   ]
  },
  {
   "cell_type": "code",
   "execution_count": 47,
   "metadata": {},
   "outputs": [],
   "source": [
    "# Load annoations object\n",
    "obj_mapping = OrganMappingAnalysisRND(obj_met_map=obj_met_map_rdn)\n"
   ]
  },
  {
   "cell_type": "code",
   "execution_count": 48,
   "metadata": {},
   "outputs": [
    {
     "data": {
      "text/html": [
       "<div>\n",
       "<style scoped>\n",
       "    .dataframe tbody tr th:only-of-type {\n",
       "        vertical-align: middle;\n",
       "    }\n",
       "\n",
       "    .dataframe tbody tr th {\n",
       "        vertical-align: top;\n",
       "    }\n",
       "\n",
       "    .dataframe thead th {\n",
       "        text-align: right;\n",
       "    }\n",
       "</style>\n",
       "<table border=\"1\" class=\"dataframe\">\n",
       "  <thead>\n",
       "    <tr style=\"text-align: right;\">\n",
       "      <th></th>\n",
       "      <th>tissue_icd_billing</th>\n",
       "      <th>clean_site</th>\n",
       "      <th>ICD_BILLING_MAPPING</th>\n",
       "    </tr>\n",
       "  </thead>\n",
       "  <tbody>\n",
       "    <tr>\n",
       "      <th>0</th>\n",
       "      <td>ADRENAL_GLAND</td>\n",
       "      <td>site1</td>\n",
       "      <td>retroperitoneum_adrenal</td>\n",
       "    </tr>\n",
       "    <tr>\n",
       "      <th>1</th>\n",
       "      <td>BILIARY_TRACT</td>\n",
       "      <td>site1</td>\n",
       "      <td>abdomen_biliary</td>\n",
       "    </tr>\n",
       "    <tr>\n",
       "      <th>2</th>\n",
       "      <td>BLADDER_OR_URINARY_TRACT</td>\n",
       "      <td>site1</td>\n",
       "      <td>pelvis_bladder</td>\n",
       "    </tr>\n",
       "    <tr>\n",
       "      <th>3</th>\n",
       "      <td>BONE</td>\n",
       "      <td>site1</td>\n",
       "      <td>back_bone.spine</td>\n",
       "    </tr>\n",
       "    <tr>\n",
       "      <th>4</th>\n",
       "      <td>BOWEL</td>\n",
       "      <td>site1</td>\n",
       "      <td>abdomen_foregut</td>\n",
       "    </tr>\n",
       "  </tbody>\n",
       "</table>\n",
       "</div>"
      ],
      "text/plain": [
       "         tissue_icd_billing clean_site      ICD_BILLING_MAPPING\n",
       "0             ADRENAL_GLAND      site1  retroperitoneum_adrenal\n",
       "1             BILIARY_TRACT      site1          abdomen_biliary\n",
       "2  BLADDER_OR_URINARY_TRACT      site1           pelvis_bladder\n",
       "3                      BONE      site1          back_bone.spine\n",
       "4                     BOWEL      site1          abdomen_foregut"
      ]
     },
     "execution_count": 48,
     "metadata": {},
     "output_type": "execute_result"
    }
   ],
   "source": [
    "obj_met_map_rdn.df_map_icd_mapping.head()\n"
   ]
  },
  {
   "cell_type": "markdown",
   "metadata": {},
   "source": [
    "## Apply mappings and format frames into cBioPortal timeline format\n",
    "### Clinical Samples Table from cBioPortal"
   ]
  },
  {
   "cell_type": "code",
   "execution_count": 49,
   "metadata": {},
   "outputs": [],
   "source": [
    "# Annotate IMPACT sample site data\n",
    "df_met_sites_impact = obj_mapping.annotate_mapping_impact_met_samples(df_samples=df_samples_f, \n",
    "                                                                      col_primary_site=col_prim_site, \n",
    "                                                                      col_met_site=col_met_site, \n",
    "                                                                      label_dist_ln=True)\n",
    "\n",
    "cols_keep = ['DMP_ID', 'AGE_DX', 'METASTATIC_SITE_BILLING_RDN', 'METASTATIC_SITE']\n",
    "df_met_sites_impact = df_met_sites_impact[cols_keep]\n",
    "df_met_sites_impact = df_met_sites_impact.assign(SOURCE='MSK-IMPACT')\n",
    "df_met_sites_impact = df_met_sites_impact.assign(STOP_DATE='')\n",
    "df_met_sites_impact = df_met_sites_impact.assign(EVENT_TYPE='Diagnosis')\n",
    "df_met_sites_impact = df_met_sites_impact.assign(SUBTYPE='Metastasis')\n",
    "df_met_sites_impact = df_met_sites_impact.assign(SOURCE='MSK-IMPACT')\n",
    "df_met_sites_impact = df_met_sites_impact.assign(SOURCE_SPECIFIC='Pathology')\n",
    "\n",
    "df_met_sites_impact = df_met_sites_impact.rename(columns={'DMP_ID': 'PATIENT_ID',\n",
    "                                                          'METASTATIC_SITE_BILLING_RDN': 'ANATOMIC_LOCATION',\n",
    "                                                          'AGE_DX': 'START_DATE',\n",
    "                                                          'METASTATIC_SITE': 'DX_DESCRIPTION'\n",
    "                                                         })\n"
   ]
  },
  {
   "cell_type": "code",
   "execution_count": 50,
   "metadata": {},
   "outputs": [
    {
     "data": {
      "text/html": [
       "<div>\n",
       "<style scoped>\n",
       "    .dataframe tbody tr th:only-of-type {\n",
       "        vertical-align: middle;\n",
       "    }\n",
       "\n",
       "    .dataframe tbody tr th {\n",
       "        vertical-align: top;\n",
       "    }\n",
       "\n",
       "    .dataframe thead th {\n",
       "        text-align: right;\n",
       "    }\n",
       "</style>\n",
       "<table border=\"1\" class=\"dataframe\">\n",
       "  <thead>\n",
       "    <tr style=\"text-align: right;\">\n",
       "      <th></th>\n",
       "      <th>PATIENT_ID</th>\n",
       "      <th>START_DATE</th>\n",
       "      <th>ANATOMIC_LOCATION</th>\n",
       "      <th>DX_DESCRIPTION</th>\n",
       "      <th>SOURCE</th>\n",
       "      <th>STOP_DATE</th>\n",
       "      <th>EVENT_TYPE</th>\n",
       "      <th>SUBTYPE</th>\n",
       "      <th>SOURCE_SPECIFIC</th>\n",
       "    </tr>\n",
       "  </thead>\n",
       "  <tbody>\n",
       "    <tr>\n",
       "      <th>0</th>\n",
       "      <td>P-0000012</td>\n",
       "      <td>21180</td>\n",
       "      <td>HEAD_AND_NECK</td>\n",
       "      <td>Neck</td>\n",
       "      <td>MSK-IMPACT</td>\n",
       "      <td></td>\n",
       "      <td>Diagnosis</td>\n",
       "      <td>Metastasis</td>\n",
       "      <td>Pathology</td>\n",
       "    </tr>\n",
       "    <tr>\n",
       "      <th>1</th>\n",
       "      <td>P-0000015</td>\n",
       "      <td>16226</td>\n",
       "      <td>LIVER</td>\n",
       "      <td>Liver</td>\n",
       "      <td>MSK-IMPACT</td>\n",
       "      <td></td>\n",
       "      <td>Diagnosis</td>\n",
       "      <td>Metastasis</td>\n",
       "      <td>Pathology</td>\n",
       "    </tr>\n",
       "    <tr>\n",
       "      <th>2</th>\n",
       "      <td>P-0000024</td>\n",
       "      <td>22281</td>\n",
       "      <td>LUNG</td>\n",
       "      <td>Lung</td>\n",
       "      <td>MSK-IMPACT</td>\n",
       "      <td></td>\n",
       "      <td>Diagnosis</td>\n",
       "      <td>Metastasis</td>\n",
       "      <td>Pathology</td>\n",
       "    </tr>\n",
       "    <tr>\n",
       "      <th>3</th>\n",
       "      <td>P-0000025</td>\n",
       "      <td>27264</td>\n",
       "      <td>INTRA_ABDOMINAL</td>\n",
       "      <td>Peritoneum</td>\n",
       "      <td>MSK-IMPACT</td>\n",
       "      <td></td>\n",
       "      <td>Diagnosis</td>\n",
       "      <td>Metastasis</td>\n",
       "      <td>Pathology</td>\n",
       "    </tr>\n",
       "    <tr>\n",
       "      <th>4</th>\n",
       "      <td>P-0000025</td>\n",
       "      <td>27600</td>\n",
       "      <td>LIVER</td>\n",
       "      <td>Liver</td>\n",
       "      <td>MSK-IMPACT</td>\n",
       "      <td></td>\n",
       "      <td>Diagnosis</td>\n",
       "      <td>Metastasis</td>\n",
       "      <td>Pathology</td>\n",
       "    </tr>\n",
       "  </tbody>\n",
       "</table>\n",
       "</div>"
      ],
      "text/plain": [
       "  PATIENT_ID  START_DATE ANATOMIC_LOCATION DX_DESCRIPTION      SOURCE STOP_DATE EVENT_TYPE     SUBTYPE SOURCE_SPECIFIC\n",
       "0  P-0000012       21180     HEAD_AND_NECK           Neck  MSK-IMPACT            Diagnosis  Metastasis       Pathology\n",
       "1  P-0000015       16226             LIVER          Liver  MSK-IMPACT            Diagnosis  Metastasis       Pathology\n",
       "2  P-0000024       22281              LUNG           Lung  MSK-IMPACT            Diagnosis  Metastasis       Pathology\n",
       "3  P-0000025       27264   INTRA_ABDOMINAL     Peritoneum  MSK-IMPACT            Diagnosis  Metastasis       Pathology\n",
       "4  P-0000025       27600             LIVER          Liver  MSK-IMPACT            Diagnosis  Metastasis       Pathology"
      ]
     },
     "execution_count": 50,
     "metadata": {},
     "output_type": "execute_result"
    }
   ],
   "source": [
    "df_met_sites_impact.head()"
   ]
  },
  {
   "cell_type": "markdown",
   "metadata": {},
   "source": [
    "#### Non-LN organs"
   ]
  },
  {
   "cell_type": "code",
   "execution_count": 51,
   "metadata": {},
   "outputs": [],
   "source": [
    "df_met_sites_impact_vis = df_met_sites_impact[~df_met_sites_impact['ANATOMIC_LOCATION'].isin(['LYMPH'])]\n",
    "\n",
    "df_met_sites_impact_vis = df_met_sites_impact_vis.assign(SUBTYPE='Metastasis')\n",
    "df_met_sites_impact_vis = df_met_sites_impact_vis[col_order]"
   ]
  },
  {
   "cell_type": "markdown",
   "metadata": {},
   "source": [
    "#### Lymph node annotations"
   ]
  },
  {
   "cell_type": "code",
   "execution_count": 53,
   "metadata": {},
   "outputs": [],
   "source": [
    "df_met_sites_impact_ln = df_met_sites_impact[df_met_sites_impact['ANATOMIC_LOCATION'].isin(['LYMPH'])]\n",
    "df_met_sites_impact_ln = df_met_sites_impact_ln.assign(SUBTYPE='Lymph Nodes')\n",
    "df_met_sites_impact_ln = df_met_sites_impact_ln[col_order]"
   ]
  },
  {
   "cell_type": "code",
   "execution_count": 55,
   "metadata": {},
   "outputs": [
    {
     "data": {
      "text/html": [
       "<div>\n",
       "<style scoped>\n",
       "    .dataframe tbody tr th:only-of-type {\n",
       "        vertical-align: middle;\n",
       "    }\n",
       "\n",
       "    .dataframe tbody tr th {\n",
       "        vertical-align: top;\n",
       "    }\n",
       "\n",
       "    .dataframe thead th {\n",
       "        text-align: right;\n",
       "    }\n",
       "</style>\n",
       "<table border=\"1\" class=\"dataframe\">\n",
       "  <thead>\n",
       "    <tr style=\"text-align: right;\">\n",
       "      <th></th>\n",
       "      <th>PATIENT_ID</th>\n",
       "      <th>START_DATE</th>\n",
       "      <th>STOP_DATE</th>\n",
       "      <th>EVENT_TYPE</th>\n",
       "      <th>SUBTYPE</th>\n",
       "      <th>SOURCE</th>\n",
       "      <th>SOURCE_SPECIFIC</th>\n",
       "      <th>DX_DESCRIPTION</th>\n",
       "      <th>ANATOMIC_LOCATION</th>\n",
       "    </tr>\n",
       "  </thead>\n",
       "  <tbody>\n",
       "    <tr>\n",
       "      <th>5</th>\n",
       "      <td>P-0000026</td>\n",
       "      <td>26146</td>\n",
       "      <td></td>\n",
       "      <td>Diagnosis</td>\n",
       "      <td>Lymph Nodes</td>\n",
       "      <td>MSK-IMPACT</td>\n",
       "      <td>Pathology</td>\n",
       "      <td>Pelvis</td>\n",
       "      <td>OTHER</td>\n",
       "    </tr>\n",
       "    <tr>\n",
       "      <th>6</th>\n",
       "      <td>P-0000030</td>\n",
       "      <td>24885</td>\n",
       "      <td></td>\n",
       "      <td>Diagnosis</td>\n",
       "      <td>Lymph Nodes</td>\n",
       "      <td>MSK-IMPACT</td>\n",
       "      <td>Pathology</td>\n",
       "      <td>Lymph Node</td>\n",
       "      <td>LYMPH</td>\n",
       "    </tr>\n",
       "    <tr>\n",
       "      <th>13</th>\n",
       "      <td>P-0000066</td>\n",
       "      <td>22617</td>\n",
       "      <td></td>\n",
       "      <td>Diagnosis</td>\n",
       "      <td>Lymph Nodes</td>\n",
       "      <td>MSK-IMPACT</td>\n",
       "      <td>Pathology</td>\n",
       "      <td>Parasternal Mass</td>\n",
       "      <td>OTHER</td>\n",
       "    </tr>\n",
       "    <tr>\n",
       "      <th>16</th>\n",
       "      <td>P-0000067</td>\n",
       "      <td>21377</td>\n",
       "      <td></td>\n",
       "      <td>Diagnosis</td>\n",
       "      <td>Lymph Nodes</td>\n",
       "      <td>MSK-IMPACT</td>\n",
       "      <td>Pathology</td>\n",
       "      <td>Pelvis</td>\n",
       "      <td>OTHER</td>\n",
       "    </tr>\n",
       "    <tr>\n",
       "      <th>17</th>\n",
       "      <td>P-0000068</td>\n",
       "      <td>28081</td>\n",
       "      <td></td>\n",
       "      <td>Diagnosis</td>\n",
       "      <td>Lymph Nodes</td>\n",
       "      <td>MSK-IMPACT</td>\n",
       "      <td>Pathology</td>\n",
       "      <td>Lymph Node</td>\n",
       "      <td>LYMPH</td>\n",
       "    </tr>\n",
       "    <tr>\n",
       "      <th>19</th>\n",
       "      <td>P-0000077</td>\n",
       "      <td>26774</td>\n",
       "      <td></td>\n",
       "      <td>Diagnosis</td>\n",
       "      <td>Lymph Nodes</td>\n",
       "      <td>MSK-IMPACT</td>\n",
       "      <td>Pathology</td>\n",
       "      <td>Lymph Node</td>\n",
       "      <td>LYMPH</td>\n",
       "    </tr>\n",
       "    <tr>\n",
       "      <th>23</th>\n",
       "      <td>P-0000085</td>\n",
       "      <td>26891</td>\n",
       "      <td></td>\n",
       "      <td>Diagnosis</td>\n",
       "      <td>Lymph Nodes</td>\n",
       "      <td>MSK-IMPACT</td>\n",
       "      <td>Pathology</td>\n",
       "      <td>Lymph Node</td>\n",
       "      <td>LYMPH</td>\n",
       "    </tr>\n",
       "    <tr>\n",
       "      <th>25</th>\n",
       "      <td>P-0000088</td>\n",
       "      <td>22599</td>\n",
       "      <td></td>\n",
       "      <td>Diagnosis</td>\n",
       "      <td>Lymph Nodes</td>\n",
       "      <td>MSK-IMPACT</td>\n",
       "      <td>Pathology</td>\n",
       "      <td>Lymph Node</td>\n",
       "      <td>LYMPH</td>\n",
       "    </tr>\n",
       "    <tr>\n",
       "      <th>27</th>\n",
       "      <td>P-0000100</td>\n",
       "      <td>20636</td>\n",
       "      <td></td>\n",
       "      <td>Diagnosis</td>\n",
       "      <td>Lymph Nodes</td>\n",
       "      <td>MSK-IMPACT</td>\n",
       "      <td>Pathology</td>\n",
       "      <td>Pelvis</td>\n",
       "      <td>OTHER</td>\n",
       "    </tr>\n",
       "    <tr>\n",
       "      <th>29</th>\n",
       "      <td>P-0000103</td>\n",
       "      <td>16858</td>\n",
       "      <td></td>\n",
       "      <td>Diagnosis</td>\n",
       "      <td>Lymph Nodes</td>\n",
       "      <td>MSK-IMPACT</td>\n",
       "      <td>Pathology</td>\n",
       "      <td>Lymph Node</td>\n",
       "      <td>LYMPH</td>\n",
       "    </tr>\n",
       "    <tr>\n",
       "      <th>30</th>\n",
       "      <td>P-0000104</td>\n",
       "      <td>21040</td>\n",
       "      <td></td>\n",
       "      <td>Diagnosis</td>\n",
       "      <td>Lymph Nodes</td>\n",
       "      <td>MSK-IMPACT</td>\n",
       "      <td>Pathology</td>\n",
       "      <td>Lymph Node</td>\n",
       "      <td>LYMPH</td>\n",
       "    </tr>\n",
       "    <tr>\n",
       "      <th>35</th>\n",
       "      <td>P-0000113</td>\n",
       "      <td>24326</td>\n",
       "      <td></td>\n",
       "      <td>Diagnosis</td>\n",
       "      <td>Lymph Nodes</td>\n",
       "      <td>MSK-IMPACT</td>\n",
       "      <td>Pathology</td>\n",
       "      <td>Lymph Node</td>\n",
       "      <td>LYMPH</td>\n",
       "    </tr>\n",
       "    <tr>\n",
       "      <th>36</th>\n",
       "      <td>P-0000114</td>\n",
       "      <td>21142</td>\n",
       "      <td></td>\n",
       "      <td>Diagnosis</td>\n",
       "      <td>Lymph Nodes</td>\n",
       "      <td>MSK-IMPACT</td>\n",
       "      <td>Pathology</td>\n",
       "      <td>Lymph Node</td>\n",
       "      <td>LYMPH</td>\n",
       "    </tr>\n",
       "    <tr>\n",
       "      <th>38</th>\n",
       "      <td>P-0000116</td>\n",
       "      <td>16861</td>\n",
       "      <td></td>\n",
       "      <td>Diagnosis</td>\n",
       "      <td>Lymph Nodes</td>\n",
       "      <td>MSK-IMPACT</td>\n",
       "      <td>Pathology</td>\n",
       "      <td>Diaphragm</td>\n",
       "      <td>OTHER</td>\n",
       "    </tr>\n",
       "    <tr>\n",
       "      <th>42</th>\n",
       "      <td>P-0000122</td>\n",
       "      <td>25079</td>\n",
       "      <td></td>\n",
       "      <td>Diagnosis</td>\n",
       "      <td>Lymph Nodes</td>\n",
       "      <td>MSK-IMPACT</td>\n",
       "      <td>Pathology</td>\n",
       "      <td>Pelvis</td>\n",
       "      <td>OTHER</td>\n",
       "    </tr>\n",
       "    <tr>\n",
       "      <th>44</th>\n",
       "      <td>P-0000123</td>\n",
       "      <td>10979</td>\n",
       "      <td></td>\n",
       "      <td>Diagnosis</td>\n",
       "      <td>Lymph Nodes</td>\n",
       "      <td>MSK-IMPACT</td>\n",
       "      <td>Pathology</td>\n",
       "      <td>Chest Wall</td>\n",
       "      <td>OTHER</td>\n",
       "    </tr>\n",
       "    <tr>\n",
       "      <th>46</th>\n",
       "      <td>P-0000127</td>\n",
       "      <td>22947</td>\n",
       "      <td></td>\n",
       "      <td>Diagnosis</td>\n",
       "      <td>Lymph Nodes</td>\n",
       "      <td>MSK-IMPACT</td>\n",
       "      <td>Pathology</td>\n",
       "      <td>Lymph Node</td>\n",
       "      <td>LYMPH</td>\n",
       "    </tr>\n",
       "    <tr>\n",
       "      <th>47</th>\n",
       "      <td>P-0000127</td>\n",
       "      <td>22947</td>\n",
       "      <td></td>\n",
       "      <td>Diagnosis</td>\n",
       "      <td>Lymph Nodes</td>\n",
       "      <td>MSK-IMPACT</td>\n",
       "      <td>Pathology</td>\n",
       "      <td>Lymph Node</td>\n",
       "      <td>LYMPH</td>\n",
       "    </tr>\n",
       "    <tr>\n",
       "      <th>48</th>\n",
       "      <td>P-0000131</td>\n",
       "      <td>25426</td>\n",
       "      <td></td>\n",
       "      <td>Diagnosis</td>\n",
       "      <td>Lymph Nodes</td>\n",
       "      <td>MSK-IMPACT</td>\n",
       "      <td>Pathology</td>\n",
       "      <td>Lymph node</td>\n",
       "      <td>LYMPH</td>\n",
       "    </tr>\n",
       "    <tr>\n",
       "      <th>49</th>\n",
       "      <td>P-0000132</td>\n",
       "      <td>27171</td>\n",
       "      <td></td>\n",
       "      <td>Diagnosis</td>\n",
       "      <td>Lymph Nodes</td>\n",
       "      <td>MSK-IMPACT</td>\n",
       "      <td>Pathology</td>\n",
       "      <td>Lymph Node</td>\n",
       "      <td>LYMPH</td>\n",
       "    </tr>\n",
       "    <tr>\n",
       "      <th>51</th>\n",
       "      <td>P-0000137</td>\n",
       "      <td>23144</td>\n",
       "      <td></td>\n",
       "      <td>Diagnosis</td>\n",
       "      <td>Lymph Nodes</td>\n",
       "      <td>MSK-IMPACT</td>\n",
       "      <td>Pathology</td>\n",
       "      <td>Pelvis</td>\n",
       "      <td>OTHER</td>\n",
       "    </tr>\n",
       "    <tr>\n",
       "      <th>54</th>\n",
       "      <td>P-0000140</td>\n",
       "      <td>16056</td>\n",
       "      <td></td>\n",
       "      <td>Diagnosis</td>\n",
       "      <td>Lymph Nodes</td>\n",
       "      <td>MSK-IMPACT</td>\n",
       "      <td>Pathology</td>\n",
       "      <td>Lymph Node</td>\n",
       "      <td>LYMPH</td>\n",
       "    </tr>\n",
       "    <tr>\n",
       "      <th>55</th>\n",
       "      <td>P-0000141</td>\n",
       "      <td>22645</td>\n",
       "      <td></td>\n",
       "      <td>Diagnosis</td>\n",
       "      <td>Lymph Nodes</td>\n",
       "      <td>MSK-IMPACT</td>\n",
       "      <td>Pathology</td>\n",
       "      <td>Abdomen</td>\n",
       "      <td>OTHER</td>\n",
       "    </tr>\n",
       "    <tr>\n",
       "      <th>56</th>\n",
       "      <td>P-0000143</td>\n",
       "      <td>22481</td>\n",
       "      <td></td>\n",
       "      <td>Diagnosis</td>\n",
       "      <td>Lymph Nodes</td>\n",
       "      <td>MSK-IMPACT</td>\n",
       "      <td>Pathology</td>\n",
       "      <td>Pelvis</td>\n",
       "      <td>OTHER</td>\n",
       "    </tr>\n",
       "    <tr>\n",
       "      <th>58</th>\n",
       "      <td>P-0000148</td>\n",
       "      <td>20832</td>\n",
       "      <td></td>\n",
       "      <td>Diagnosis</td>\n",
       "      <td>Lymph Nodes</td>\n",
       "      <td>MSK-IMPACT</td>\n",
       "      <td>Pathology</td>\n",
       "      <td>Spleen</td>\n",
       "      <td>LYMPH</td>\n",
       "    </tr>\n",
       "    <tr>\n",
       "      <th>59</th>\n",
       "      <td>P-0000149</td>\n",
       "      <td>18708</td>\n",
       "      <td></td>\n",
       "      <td>Diagnosis</td>\n",
       "      <td>Lymph Nodes</td>\n",
       "      <td>MSK-IMPACT</td>\n",
       "      <td>Pathology</td>\n",
       "      <td>Lymph Node</td>\n",
       "      <td>LYMPH</td>\n",
       "    </tr>\n",
       "    <tr>\n",
       "      <th>60</th>\n",
       "      <td>P-0000149</td>\n",
       "      <td>18528</td>\n",
       "      <td></td>\n",
       "      <td>Diagnosis</td>\n",
       "      <td>Lymph Nodes</td>\n",
       "      <td>MSK-IMPACT</td>\n",
       "      <td>Pathology</td>\n",
       "      <td>Lymph Node</td>\n",
       "      <td>LYMPH</td>\n",
       "    </tr>\n",
       "    <tr>\n",
       "      <th>62</th>\n",
       "      <td>P-0000152</td>\n",
       "      <td>24013</td>\n",
       "      <td></td>\n",
       "      <td>Diagnosis</td>\n",
       "      <td>Lymph Nodes</td>\n",
       "      <td>MSK-IMPACT</td>\n",
       "      <td>Pathology</td>\n",
       "      <td>Lymph Node</td>\n",
       "      <td>LYMPH</td>\n",
       "    </tr>\n",
       "    <tr>\n",
       "      <th>63</th>\n",
       "      <td>P-0000152</td>\n",
       "      <td>26593</td>\n",
       "      <td></td>\n",
       "      <td>Diagnosis</td>\n",
       "      <td>Lymph Nodes</td>\n",
       "      <td>MSK-IMPACT</td>\n",
       "      <td>Pathology</td>\n",
       "      <td>Lymph Node</td>\n",
       "      <td>LYMPH</td>\n",
       "    </tr>\n",
       "    <tr>\n",
       "      <th>64</th>\n",
       "      <td>P-0000152</td>\n",
       "      <td>26973</td>\n",
       "      <td></td>\n",
       "      <td>Diagnosis</td>\n",
       "      <td>Lymph Nodes</td>\n",
       "      <td>MSK-IMPACT</td>\n",
       "      <td>Pathology</td>\n",
       "      <td>Soft Tissue</td>\n",
       "      <td>OTHER</td>\n",
       "    </tr>\n",
       "    <tr>\n",
       "      <th>65</th>\n",
       "      <td>P-0000155</td>\n",
       "      <td>25355</td>\n",
       "      <td></td>\n",
       "      <td>Diagnosis</td>\n",
       "      <td>Lymph Nodes</td>\n",
       "      <td>MSK-IMPACT</td>\n",
       "      <td>Pathology</td>\n",
       "      <td>Chest Wall</td>\n",
       "      <td>OTHER</td>\n",
       "    </tr>\n",
       "    <tr>\n",
       "      <th>66</th>\n",
       "      <td>P-0000157</td>\n",
       "      <td>18051</td>\n",
       "      <td></td>\n",
       "      <td>Diagnosis</td>\n",
       "      <td>Lymph Nodes</td>\n",
       "      <td>MSK-IMPACT</td>\n",
       "      <td>Pathology</td>\n",
       "      <td>Lymph Node</td>\n",
       "      <td>LYMPH</td>\n",
       "    </tr>\n",
       "    <tr>\n",
       "      <th>68</th>\n",
       "      <td>P-0000160</td>\n",
       "      <td>25962</td>\n",
       "      <td></td>\n",
       "      <td>Diagnosis</td>\n",
       "      <td>Lymph Nodes</td>\n",
       "      <td>MSK-IMPACT</td>\n",
       "      <td>Pathology</td>\n",
       "      <td>Chest Wall</td>\n",
       "      <td>OTHER</td>\n",
       "    </tr>\n",
       "    <tr>\n",
       "      <th>75</th>\n",
       "      <td>P-0000167</td>\n",
       "      <td>25414</td>\n",
       "      <td></td>\n",
       "      <td>Diagnosis</td>\n",
       "      <td>Lymph Nodes</td>\n",
       "      <td>MSK-IMPACT</td>\n",
       "      <td>Pathology</td>\n",
       "      <td>Lymph Node</td>\n",
       "      <td>LYMPH</td>\n",
       "    </tr>\n",
       "    <tr>\n",
       "      <th>77</th>\n",
       "      <td>P-0000170</td>\n",
       "      <td>15067</td>\n",
       "      <td></td>\n",
       "      <td>Diagnosis</td>\n",
       "      <td>Lymph Nodes</td>\n",
       "      <td>MSK-IMPACT</td>\n",
       "      <td>Pathology</td>\n",
       "      <td>Lymph Node</td>\n",
       "      <td>LYMPH</td>\n",
       "    </tr>\n",
       "    <tr>\n",
       "      <th>78</th>\n",
       "      <td>P-0000171</td>\n",
       "      <td>7263</td>\n",
       "      <td></td>\n",
       "      <td>Diagnosis</td>\n",
       "      <td>Lymph Nodes</td>\n",
       "      <td>MSK-IMPACT</td>\n",
       "      <td>Pathology</td>\n",
       "      <td>Lymph Node</td>\n",
       "      <td>LYMPH</td>\n",
       "    </tr>\n",
       "    <tr>\n",
       "      <th>79</th>\n",
       "      <td>P-0000181</td>\n",
       "      <td>13962</td>\n",
       "      <td></td>\n",
       "      <td>Diagnosis</td>\n",
       "      <td>Lymph Nodes</td>\n",
       "      <td>MSK-IMPACT</td>\n",
       "      <td>Pathology</td>\n",
       "      <td>Retroperitoneum</td>\n",
       "      <td>OTHER</td>\n",
       "    </tr>\n",
       "    <tr>\n",
       "      <th>81</th>\n",
       "      <td>P-0000184</td>\n",
       "      <td>22999</td>\n",
       "      <td></td>\n",
       "      <td>Diagnosis</td>\n",
       "      <td>Lymph Nodes</td>\n",
       "      <td>MSK-IMPACT</td>\n",
       "      <td>Pathology</td>\n",
       "      <td>Lymph node</td>\n",
       "      <td>LYMPH</td>\n",
       "    </tr>\n",
       "    <tr>\n",
       "      <th>86</th>\n",
       "      <td>P-0000202</td>\n",
       "      <td>20682</td>\n",
       "      <td></td>\n",
       "      <td>Diagnosis</td>\n",
       "      <td>Lymph Nodes</td>\n",
       "      <td>MSK-IMPACT</td>\n",
       "      <td>Pathology</td>\n",
       "      <td>Lymph Node</td>\n",
       "      <td>LYMPH</td>\n",
       "    </tr>\n",
       "    <tr>\n",
       "      <th>92</th>\n",
       "      <td>P-0000211</td>\n",
       "      <td>22367</td>\n",
       "      <td></td>\n",
       "      <td>Diagnosis</td>\n",
       "      <td>Lymph Nodes</td>\n",
       "      <td>MSK-IMPACT</td>\n",
       "      <td>Pathology</td>\n",
       "      <td>Chest Wall</td>\n",
       "      <td>OTHER</td>\n",
       "    </tr>\n",
       "    <tr>\n",
       "      <th>99</th>\n",
       "      <td>P-0000219</td>\n",
       "      <td>21620</td>\n",
       "      <td></td>\n",
       "      <td>Diagnosis</td>\n",
       "      <td>Lymph Nodes</td>\n",
       "      <td>MSK-IMPACT</td>\n",
       "      <td>Pathology</td>\n",
       "      <td>Soft Tissue</td>\n",
       "      <td>OTHER</td>\n",
       "    </tr>\n",
       "    <tr>\n",
       "      <th>104</th>\n",
       "      <td>P-0000234</td>\n",
       "      <td>21835</td>\n",
       "      <td></td>\n",
       "      <td>Diagnosis</td>\n",
       "      <td>Lymph Nodes</td>\n",
       "      <td>MSK-IMPACT</td>\n",
       "      <td>Pathology</td>\n",
       "      <td>Chest Wall</td>\n",
       "      <td>OTHER</td>\n",
       "    </tr>\n",
       "    <tr>\n",
       "      <th>107</th>\n",
       "      <td>P-0000237</td>\n",
       "      <td>26177</td>\n",
       "      <td></td>\n",
       "      <td>Diagnosis</td>\n",
       "      <td>Lymph Nodes</td>\n",
       "      <td>MSK-IMPACT</td>\n",
       "      <td>Pathology</td>\n",
       "      <td>Orbital Floor</td>\n",
       "      <td>OTHER</td>\n",
       "    </tr>\n",
       "    <tr>\n",
       "      <th>108</th>\n",
       "      <td>P-0000240</td>\n",
       "      <td>17522</td>\n",
       "      <td></td>\n",
       "      <td>Diagnosis</td>\n",
       "      <td>Lymph Nodes</td>\n",
       "      <td>MSK-IMPACT</td>\n",
       "      <td>Pathology</td>\n",
       "      <td>Lymph Node</td>\n",
       "      <td>LYMPH</td>\n",
       "    </tr>\n",
       "    <tr>\n",
       "      <th>110</th>\n",
       "      <td>P-0000245</td>\n",
       "      <td>24134</td>\n",
       "      <td></td>\n",
       "      <td>Diagnosis</td>\n",
       "      <td>Lymph Nodes</td>\n",
       "      <td>MSK-IMPACT</td>\n",
       "      <td>Pathology</td>\n",
       "      <td>Lymph Node</td>\n",
       "      <td>LYMPH</td>\n",
       "    </tr>\n",
       "    <tr>\n",
       "      <th>111</th>\n",
       "      <td>P-0000246</td>\n",
       "      <td>10476</td>\n",
       "      <td></td>\n",
       "      <td>Diagnosis</td>\n",
       "      <td>Lymph Nodes</td>\n",
       "      <td>MSK-IMPACT</td>\n",
       "      <td>Pathology</td>\n",
       "      <td>Lymph Node</td>\n",
       "      <td>LYMPH</td>\n",
       "    </tr>\n",
       "    <tr>\n",
       "      <th>118</th>\n",
       "      <td>P-0000257</td>\n",
       "      <td>11691</td>\n",
       "      <td></td>\n",
       "      <td>Diagnosis</td>\n",
       "      <td>Lymph Nodes</td>\n",
       "      <td>MSK-IMPACT</td>\n",
       "      <td>Pathology</td>\n",
       "      <td>Lymph Node</td>\n",
       "      <td>LYMPH</td>\n",
       "    </tr>\n",
       "    <tr>\n",
       "      <th>119</th>\n",
       "      <td>P-0000258</td>\n",
       "      <td>8647</td>\n",
       "      <td></td>\n",
       "      <td>Diagnosis</td>\n",
       "      <td>Lymph Nodes</td>\n",
       "      <td>MSK-IMPACT</td>\n",
       "      <td>Pathology</td>\n",
       "      <td>Lymph Node</td>\n",
       "      <td>LYMPH</td>\n",
       "    </tr>\n",
       "    <tr>\n",
       "      <th>120</th>\n",
       "      <td>P-0000259</td>\n",
       "      <td>24329</td>\n",
       "      <td></td>\n",
       "      <td>Diagnosis</td>\n",
       "      <td>Lymph Nodes</td>\n",
       "      <td>MSK-IMPACT</td>\n",
       "      <td>Pathology</td>\n",
       "      <td>Chest Wall</td>\n",
       "      <td>OTHER</td>\n",
       "    </tr>\n",
       "    <tr>\n",
       "      <th>122</th>\n",
       "      <td>P-0000261</td>\n",
       "      <td>10046</td>\n",
       "      <td></td>\n",
       "      <td>Diagnosis</td>\n",
       "      <td>Lymph Nodes</td>\n",
       "      <td>MSK-IMPACT</td>\n",
       "      <td>Pathology</td>\n",
       "      <td>Lymph Node</td>\n",
       "      <td>LYMPH</td>\n",
       "    </tr>\n",
       "  </tbody>\n",
       "</table>\n",
       "</div>"
      ],
      "text/plain": [
       "    PATIENT_ID  START_DATE STOP_DATE EVENT_TYPE      SUBTYPE      SOURCE SOURCE_SPECIFIC    DX_DESCRIPTION ANATOMIC_LOCATION\n",
       "5    P-0000026       26146            Diagnosis  Lymph Nodes  MSK-IMPACT       Pathology            Pelvis             OTHER\n",
       "6    P-0000030       24885            Diagnosis  Lymph Nodes  MSK-IMPACT       Pathology        Lymph Node             LYMPH\n",
       "13   P-0000066       22617            Diagnosis  Lymph Nodes  MSK-IMPACT       Pathology  Parasternal Mass             OTHER\n",
       "16   P-0000067       21377            Diagnosis  Lymph Nodes  MSK-IMPACT       Pathology            Pelvis             OTHER\n",
       "17   P-0000068       28081            Diagnosis  Lymph Nodes  MSK-IMPACT       Pathology        Lymph Node             LYMPH\n",
       "19   P-0000077       26774            Diagnosis  Lymph Nodes  MSK-IMPACT       Pathology        Lymph Node             LYMPH\n",
       "23   P-0000085       26891            Diagnosis  Lymph Nodes  MSK-IMPACT       Pathology        Lymph Node             LYMPH\n",
       "25   P-0000088       22599            Diagnosis  Lymph Nodes  MSK-IMPACT       Pathology        Lymph Node             LYMPH\n",
       "27   P-0000100       20636            Diagnosis  Lymph Nodes  MSK-IMPACT       Pathology            Pelvis             OTHER\n",
       "29   P-0000103       16858            Diagnosis  Lymph Nodes  MSK-IMPACT       Pathology        Lymph Node             LYMPH\n",
       "30   P-0000104       21040            Diagnosis  Lymph Nodes  MSK-IMPACT       Pathology        Lymph Node             LYMPH\n",
       "35   P-0000113       24326            Diagnosis  Lymph Nodes  MSK-IMPACT       Pathology        Lymph Node             LYMPH\n",
       "36   P-0000114       21142            Diagnosis  Lymph Nodes  MSK-IMPACT       Pathology        Lymph Node             LYMPH\n",
       "38   P-0000116       16861            Diagnosis  Lymph Nodes  MSK-IMPACT       Pathology         Diaphragm             OTHER\n",
       "42   P-0000122       25079            Diagnosis  Lymph Nodes  MSK-IMPACT       Pathology            Pelvis             OTHER\n",
       "44   P-0000123       10979            Diagnosis  Lymph Nodes  MSK-IMPACT       Pathology        Chest Wall             OTHER\n",
       "46   P-0000127       22947            Diagnosis  Lymph Nodes  MSK-IMPACT       Pathology        Lymph Node             LYMPH\n",
       "47   P-0000127       22947            Diagnosis  Lymph Nodes  MSK-IMPACT       Pathology        Lymph Node             LYMPH\n",
       "48   P-0000131       25426            Diagnosis  Lymph Nodes  MSK-IMPACT       Pathology        Lymph node             LYMPH\n",
       "49   P-0000132       27171            Diagnosis  Lymph Nodes  MSK-IMPACT       Pathology        Lymph Node             LYMPH\n",
       "51   P-0000137       23144            Diagnosis  Lymph Nodes  MSK-IMPACT       Pathology            Pelvis             OTHER\n",
       "54   P-0000140       16056            Diagnosis  Lymph Nodes  MSK-IMPACT       Pathology        Lymph Node             LYMPH\n",
       "55   P-0000141       22645            Diagnosis  Lymph Nodes  MSK-IMPACT       Pathology           Abdomen             OTHER\n",
       "56   P-0000143       22481            Diagnosis  Lymph Nodes  MSK-IMPACT       Pathology            Pelvis             OTHER\n",
       "58   P-0000148       20832            Diagnosis  Lymph Nodes  MSK-IMPACT       Pathology            Spleen             LYMPH\n",
       "59   P-0000149       18708            Diagnosis  Lymph Nodes  MSK-IMPACT       Pathology        Lymph Node             LYMPH\n",
       "60   P-0000149       18528            Diagnosis  Lymph Nodes  MSK-IMPACT       Pathology        Lymph Node             LYMPH\n",
       "62   P-0000152       24013            Diagnosis  Lymph Nodes  MSK-IMPACT       Pathology        Lymph Node             LYMPH\n",
       "63   P-0000152       26593            Diagnosis  Lymph Nodes  MSK-IMPACT       Pathology        Lymph Node             LYMPH\n",
       "64   P-0000152       26973            Diagnosis  Lymph Nodes  MSK-IMPACT       Pathology       Soft Tissue             OTHER\n",
       "65   P-0000155       25355            Diagnosis  Lymph Nodes  MSK-IMPACT       Pathology        Chest Wall             OTHER\n",
       "66   P-0000157       18051            Diagnosis  Lymph Nodes  MSK-IMPACT       Pathology        Lymph Node             LYMPH\n",
       "68   P-0000160       25962            Diagnosis  Lymph Nodes  MSK-IMPACT       Pathology        Chest Wall             OTHER\n",
       "75   P-0000167       25414            Diagnosis  Lymph Nodes  MSK-IMPACT       Pathology        Lymph Node             LYMPH\n",
       "77   P-0000170       15067            Diagnosis  Lymph Nodes  MSK-IMPACT       Pathology        Lymph Node             LYMPH\n",
       "78   P-0000171        7263            Diagnosis  Lymph Nodes  MSK-IMPACT       Pathology        Lymph Node             LYMPH\n",
       "79   P-0000181       13962            Diagnosis  Lymph Nodes  MSK-IMPACT       Pathology   Retroperitoneum             OTHER\n",
       "81   P-0000184       22999            Diagnosis  Lymph Nodes  MSK-IMPACT       Pathology        Lymph node             LYMPH\n",
       "86   P-0000202       20682            Diagnosis  Lymph Nodes  MSK-IMPACT       Pathology        Lymph Node             LYMPH\n",
       "92   P-0000211       22367            Diagnosis  Lymph Nodes  MSK-IMPACT       Pathology        Chest Wall             OTHER\n",
       "99   P-0000219       21620            Diagnosis  Lymph Nodes  MSK-IMPACT       Pathology       Soft Tissue             OTHER\n",
       "104  P-0000234       21835            Diagnosis  Lymph Nodes  MSK-IMPACT       Pathology        Chest Wall             OTHER\n",
       "107  P-0000237       26177            Diagnosis  Lymph Nodes  MSK-IMPACT       Pathology     Orbital Floor             OTHER\n",
       "108  P-0000240       17522            Diagnosis  Lymph Nodes  MSK-IMPACT       Pathology        Lymph Node             LYMPH\n",
       "110  P-0000245       24134            Diagnosis  Lymph Nodes  MSK-IMPACT       Pathology        Lymph Node             LYMPH\n",
       "111  P-0000246       10476            Diagnosis  Lymph Nodes  MSK-IMPACT       Pathology        Lymph Node             LYMPH\n",
       "118  P-0000257       11691            Diagnosis  Lymph Nodes  MSK-IMPACT       Pathology        Lymph Node             LYMPH\n",
       "119  P-0000258        8647            Diagnosis  Lymph Nodes  MSK-IMPACT       Pathology        Lymph Node             LYMPH\n",
       "120  P-0000259       24329            Diagnosis  Lymph Nodes  MSK-IMPACT       Pathology        Chest Wall             OTHER\n",
       "122  P-0000261       10046            Diagnosis  Lymph Nodes  MSK-IMPACT       Pathology        Lymph Node             LYMPH"
      ]
     },
     "execution_count": 55,
     "metadata": {},
     "output_type": "execute_result"
    }
   ],
   "source": [
    "df_met_sites_impact_ln.head()"
   ]
  },
  {
   "cell_type": "markdown",
   "metadata": {},
   "source": [
    "### ICD Billing table "
   ]
  },
  {
   "cell_type": "code",
   "execution_count": null,
   "metadata": {},
   "outputs": [],
   "source": [
    "# Annotate diagnosis table of ICD billings with renzo's mapping of metastatic sites\n",
    "df_met_sites_dx = obj_mapping.annotate_icd_billing_met_dx(df_dx_mets=df_dx_billing_f, \n",
    "                                                          col_icd_billing=col_icd_billing, \n",
    "                                                          col_sex=col_sex,\n",
    "                                                          add_msk_met_anno=True)\n",
    "\n",
    "df_met_sites_dx['Diagnosis Description'] = df_met_sites_dx['ICD-9/10 Dx Code'] + ' - ' + df_met_sites_dx['Diagnosis Description']\n",
    "df_met_sites_dx = df_met_sites_dx.drop(columns=['ICD-9/10 Dx Code', 'GENDER', 'METASTATIC_SITE_RDN_MAP'])\n",
    "\n",
    "df_met_sites_dx = df_met_sites_dx.assign(SOURCE='ICD Billing')\n",
    "df_met_sites_dx = df_met_sites_dx.assign(STOP_DATE='')\n",
    "df_met_sites_dx = df_met_sites_dx.assign(EVENT_TYPE='Diagnosis')\n",
    "df_met_sites_dx = df_met_sites_dx.assign(SOURCE_SPECIFIC='ICD Billing')\n",
    "\n",
    "df_met_sites_dx = df_met_sites_dx.rename(columns={'DMP_ID': 'PATIENT_ID',\n",
    "                                                  'tissue_icd_billing': 'ANATOMIC_LOCATION',\n",
    "                                                  'AGE_DX': 'START_DATE',\n",
    "                                                  'Diagnosis Description': 'DX_DESCRIPTION'\n",
    "                                                  }\n",
    "                                        )\n",
    "df_met_sites_dx"
   ]
  },
  {
   "cell_type": "code",
   "execution_count": null,
   "metadata": {},
   "outputs": [],
   "source": [
    "print(df_dx_billing_f.shape)\n",
    "print(df_met_sites_dx.shape)\n"
   ]
  },
  {
   "cell_type": "markdown",
   "metadata": {},
   "source": [
    "#### Non-LN organs"
   ]
  },
  {
   "cell_type": "code",
   "execution_count": null,
   "metadata": {},
   "outputs": [],
   "source": [
    "df_met_sites_dx_vis = df_met_sites_dx[~df_met_sites_dx['ANATOMIC_LOCATION'].isin(['LYMPH', 'OTHER'])]\n",
    "\n",
    "df_met_sites_dx_vis = df_met_sites_dx_vis.assign(SUBTYPE='Metastasis')\n",
    "df_met_sites_dx_vis = df_met_sites_dx_vis[col_order]"
   ]
  },
  {
   "cell_type": "code",
   "execution_count": null,
   "metadata": {},
   "outputs": [],
   "source": [
    "df_met_sites_dx_vis.head()"
   ]
  },
  {
   "cell_type": "markdown",
   "metadata": {},
   "source": [
    "#### Lymph node annotations"
   ]
  },
  {
   "cell_type": "code",
   "execution_count": null,
   "metadata": {},
   "outputs": [],
   "source": [
    "df_met_sites_dx_ln = df_met_sites_dx[df_met_sites_dx['ANATOMIC_LOCATION'].isin(['LYMPH', 'OTHER'])]\n",
    "\n",
    "df_met_sites_dx_ln = df_met_sites_dx_ln.assign(SUBTYPE='Lymph Nodes')\n",
    "df_met_sites_dx_ln = df_met_sites_dx_ln[col_order]"
   ]
  },
  {
   "cell_type": "code",
   "execution_count": null,
   "metadata": {},
   "outputs": [],
   "source": [
    "# df_met_rdn_anno.head(50)\n",
    "# t = df_met_rdn_anno.groupby('DMP_ID')['CANCER_TYPE'].nunique()\n",
    "# df_met_rdn_anno[df_met_rdn_anno['DMP_ID'].isin(t[t > 1].index)].head(50)\n",
    "\n",
    "df_met_sites_dx_ln.head()"
   ]
  },
  {
   "cell_type": "markdown",
   "metadata": {},
   "source": [
    "### Radiology report NLP predictions"
   ]
  },
  {
   "cell_type": "code",
   "execution_count": null,
   "metadata": {},
   "outputs": [],
   "source": []
  },
  {
   "cell_type": "code",
   "execution_count": null,
   "metadata": {},
   "outputs": [],
   "source": []
  },
  {
   "cell_type": "markdown",
   "metadata": {},
   "source": [
    "## Merge dataframes"
   ]
  },
  {
   "cell_type": "code",
   "execution_count": null,
   "metadata": {},
   "outputs": [],
   "source": [
    "df_mets_f = pd.concat([df_met_sites_impact, df_met_sites_dx_vis], axis=0, sort=False)\n",
    "df_mets_f = df_mets_f.sort_values(by=['PATIENT_ID', 'START_DATE', 'ANATOMIC_LOCATION']).reset_index(drop=True)"
   ]
  },
  {
   "cell_type": "code",
   "execution_count": null,
   "metadata": {},
   "outputs": [],
   "source": [
    "df_mets_f.head(50)"
   ]
  },
  {
   "cell_type": "markdown",
   "metadata": {},
   "source": [
    "## Save annotations"
   ]
  },
  {
   "cell_type": "code",
   "execution_count": null,
   "metadata": {},
   "outputs": [],
   "source": [
    "# Save RDN annotations\n",
    "# df_mets_f.to_csv(pathfilename_out, index=False)\n",
    "obj_minio.save_obj(df=df_mets_f, bucket_name=BUCKET, path_object='sandbox/fongc2/dx_met_timeline.txt', sep='\\t')\n"
   ]
  },
  {
   "cell_type": "markdown",
   "metadata": {},
   "source": [
    "## Create binary matrix from mapping"
   ]
  },
  {
   "cell_type": "code",
   "execution_count": null,
   "metadata": {},
   "outputs": [],
   "source": [
    "# df_binary = obj_mapping.create_binary_met_sites(df=df_met_sites_impact, col_index='SAMPLE_ID', col_count='DMP_ID', col_met_site='METASTATIC_SITE_BILLING_RDN')"
   ]
  },
  {
   "cell_type": "code",
   "execution_count": null,
   "metadata": {},
   "outputs": [],
   "source": [
    "df_binary.head(2)"
   ]
  },
  {
   "cell_type": "code",
   "execution_count": null,
   "metadata": {},
   "outputs": [],
   "source": [
    "cols = list(df_binary.columns[df_binary.columns.str.contains('HAS_')])\n",
    "(df_binary[cols].sum()/df_binary.shape[0]).sort_values(ascending=False)"
   ]
  }
 ],
 "metadata": {
  "kernelspec": {
   "display_name": "env_cdm",
   "language": "python",
   "name": "env_cdm"
  },
  "language_info": {
   "codemirror_mode": {
    "name": "ipython",
    "version": 3
   },
   "file_extension": ".py",
   "mimetype": "text/x-python",
   "name": "python",
   "nbconvert_exporter": "python",
   "pygments_lexer": "ipython3",
   "version": "3.7.12"
  }
 },
 "nbformat": 4,
 "nbformat_minor": 4
}
